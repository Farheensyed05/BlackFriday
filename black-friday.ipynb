{
 "cells": [
  {
   "cell_type": "markdown",
   "id": "3d09f3e3",
   "metadata": {
    "_cell_guid": "9493fa91-9afa-4418-a5c3-4ef3552fe018",
    "_kg_hide-output": false,
    "_uuid": "5fcf1f30-67d4-4bc8-863c-a7b3d10fadc1",
    "papermill": {
     "duration": 0.022588,
     "end_time": "2022-06-22T11:02:29.313662",
     "exception": false,
     "start_time": "2022-06-22T11:02:29.291074",
     "status": "completed"
    },
    "tags": []
   },
   "source": [
    "## Black Friday Dataset EDA and Feature Engineering"
   ]
  },
  {
   "cell_type": "markdown",
   "id": "349fc9e0",
   "metadata": {
    "_cell_guid": "bd946986-bcee-4cda-ab10-01f21d03a8b8",
    "_uuid": "49d4fd04-188a-4a7f-bffe-a7182ac6a16d",
    "papermill": {
     "duration": 0.019139,
     "end_time": "2022-06-22T11:02:29.352864",
     "exception": false,
     "start_time": "2022-06-22T11:02:29.333725",
     "status": "completed"
    },
    "tags": []
   },
   "source": [
    "### Cleaning and Preparing the data for model training"
   ]
  },
  {
   "cell_type": "code",
   "execution_count": 1,
   "id": "8a09f99b",
   "metadata": {
    "_cell_guid": "4e3ba0e6-b030-4214-aea1-b40fcc6428cc",
    "_uuid": "b343122e-d4fb-45cc-97cb-ab91c2dde51a",
    "collapsed": false,
    "execution": {
     "iopub.execute_input": "2022-06-22T11:02:29.395412Z",
     "iopub.status.busy": "2022-06-22T11:02:29.394607Z",
     "iopub.status.idle": "2022-06-22T11:02:30.573851Z",
     "shell.execute_reply": "2022-06-22T11:02:30.572612Z"
    },
    "jupyter": {
     "outputs_hidden": false
    },
    "papermill": {
     "duration": 1.203909,
     "end_time": "2022-06-22T11:02:30.577356",
     "exception": false,
     "start_time": "2022-06-22T11:02:29.373447",
     "status": "completed"
    },
    "tags": []
   },
   "outputs": [],
   "source": [
    "import pandas as pd\n",
    "import numpy as np\n",
    "import matplotlib.pyplot as plt\n",
    "import seaborn as sns\n",
    "%matplotlib inline"
   ]
  },
  {
   "cell_type": "code",
   "execution_count": 2,
   "id": "a76dc9d3",
   "metadata": {
    "_cell_guid": "d4d6b426-a201-49cd-93e0-cd424129669a",
    "_uuid": "15a8be5d-4d26-4833-b7e1-611c2210b686",
    "collapsed": false,
    "execution": {
     "iopub.execute_input": "2022-06-22T11:02:30.619604Z",
     "iopub.status.busy": "2022-06-22T11:02:30.618830Z",
     "iopub.status.idle": "2022-06-22T11:02:31.604567Z",
     "shell.execute_reply": "2022-06-22T11:02:31.603605Z"
    },
    "jupyter": {
     "outputs_hidden": false
    },
    "papermill": {
     "duration": 1.010547,
     "end_time": "2022-06-22T11:02:31.608011",
     "exception": false,
     "start_time": "2022-06-22T11:02:30.597464",
     "status": "completed"
    },
    "tags": []
   },
   "outputs": [
    {
     "data": {
      "text/html": [
       "<div>\n",
       "<style scoped>\n",
       "    .dataframe tbody tr th:only-of-type {\n",
       "        vertical-align: middle;\n",
       "    }\n",
       "\n",
       "    .dataframe tbody tr th {\n",
       "        vertical-align: top;\n",
       "    }\n",
       "\n",
       "    .dataframe thead th {\n",
       "        text-align: right;\n",
       "    }\n",
       "</style>\n",
       "<table border=\"1\" class=\"dataframe\">\n",
       "  <thead>\n",
       "    <tr style=\"text-align: right;\">\n",
       "      <th></th>\n",
       "      <th>User_ID</th>\n",
       "      <th>Product_ID</th>\n",
       "      <th>Gender</th>\n",
       "      <th>Age</th>\n",
       "      <th>Occupation</th>\n",
       "      <th>City_Category</th>\n",
       "      <th>Stay_In_Current_City_Years</th>\n",
       "      <th>Marital_Status</th>\n",
       "      <th>Product_Category_1</th>\n",
       "      <th>Product_Category_2</th>\n",
       "      <th>Product_Category_3</th>\n",
       "      <th>Purchase</th>\n",
       "    </tr>\n",
       "  </thead>\n",
       "  <tbody>\n",
       "    <tr>\n",
       "      <th>0</th>\n",
       "      <td>1000001</td>\n",
       "      <td>P00069042</td>\n",
       "      <td>F</td>\n",
       "      <td>0-17</td>\n",
       "      <td>10</td>\n",
       "      <td>A</td>\n",
       "      <td>2</td>\n",
       "      <td>0</td>\n",
       "      <td>3</td>\n",
       "      <td>NaN</td>\n",
       "      <td>NaN</td>\n",
       "      <td>8370</td>\n",
       "    </tr>\n",
       "    <tr>\n",
       "      <th>1</th>\n",
       "      <td>1000001</td>\n",
       "      <td>P00248942</td>\n",
       "      <td>F</td>\n",
       "      <td>0-17</td>\n",
       "      <td>10</td>\n",
       "      <td>A</td>\n",
       "      <td>2</td>\n",
       "      <td>0</td>\n",
       "      <td>1</td>\n",
       "      <td>6.0</td>\n",
       "      <td>14.0</td>\n",
       "      <td>15200</td>\n",
       "    </tr>\n",
       "    <tr>\n",
       "      <th>2</th>\n",
       "      <td>1000001</td>\n",
       "      <td>P00087842</td>\n",
       "      <td>F</td>\n",
       "      <td>0-17</td>\n",
       "      <td>10</td>\n",
       "      <td>A</td>\n",
       "      <td>2</td>\n",
       "      <td>0</td>\n",
       "      <td>12</td>\n",
       "      <td>NaN</td>\n",
       "      <td>NaN</td>\n",
       "      <td>1422</td>\n",
       "    </tr>\n",
       "    <tr>\n",
       "      <th>3</th>\n",
       "      <td>1000001</td>\n",
       "      <td>P00085442</td>\n",
       "      <td>F</td>\n",
       "      <td>0-17</td>\n",
       "      <td>10</td>\n",
       "      <td>A</td>\n",
       "      <td>2</td>\n",
       "      <td>0</td>\n",
       "      <td>12</td>\n",
       "      <td>14.0</td>\n",
       "      <td>NaN</td>\n",
       "      <td>1057</td>\n",
       "    </tr>\n",
       "    <tr>\n",
       "      <th>4</th>\n",
       "      <td>1000002</td>\n",
       "      <td>P00285442</td>\n",
       "      <td>M</td>\n",
       "      <td>55+</td>\n",
       "      <td>16</td>\n",
       "      <td>C</td>\n",
       "      <td>4+</td>\n",
       "      <td>0</td>\n",
       "      <td>8</td>\n",
       "      <td>NaN</td>\n",
       "      <td>NaN</td>\n",
       "      <td>7969</td>\n",
       "    </tr>\n",
       "  </tbody>\n",
       "</table>\n",
       "</div>"
      ],
      "text/plain": [
       "   User_ID Product_ID Gender   Age  Occupation City_Category  \\\n",
       "0  1000001  P00069042      F  0-17          10             A   \n",
       "1  1000001  P00248942      F  0-17          10             A   \n",
       "2  1000001  P00087842      F  0-17          10             A   \n",
       "3  1000001  P00085442      F  0-17          10             A   \n",
       "4  1000002  P00285442      M   55+          16             C   \n",
       "\n",
       "  Stay_In_Current_City_Years  Marital_Status  Product_Category_1  \\\n",
       "0                          2               0                   3   \n",
       "1                          2               0                   1   \n",
       "2                          2               0                  12   \n",
       "3                          2               0                  12   \n",
       "4                         4+               0                   8   \n",
       "\n",
       "   Product_Category_2  Product_Category_3  Purchase  \n",
       "0                 NaN                 NaN      8370  \n",
       "1                 6.0                14.0     15200  \n",
       "2                 NaN                 NaN      1422  \n",
       "3                14.0                 NaN      1057  \n",
       "4                 NaN                 NaN      7969  "
      ]
     },
     "execution_count": 2,
     "metadata": {},
     "output_type": "execute_result"
    }
   ],
   "source": [
    "#importing the dataset\n",
    "df_train=pd.read_csv(\"../input/black-friday/train.csv\")\n",
    "df_train.head()"
   ]
  },
  {
   "cell_type": "code",
   "execution_count": 3,
   "id": "c01f468b",
   "metadata": {
    "_cell_guid": "5924f55d-af7b-420d-b6a1-3b6f55ce1716",
    "_uuid": "c9db2a6c-3e3c-46c7-935f-1837fb6929e2",
    "collapsed": false,
    "execution": {
     "iopub.execute_input": "2022-06-22T11:02:31.650915Z",
     "iopub.status.busy": "2022-06-22T11:02:31.650396Z",
     "iopub.status.idle": "2022-06-22T11:02:31.658019Z",
     "shell.execute_reply": "2022-06-22T11:02:31.656664Z"
    },
    "jupyter": {
     "outputs_hidden": false
    },
    "papermill": {
     "duration": 0.031469,
     "end_time": "2022-06-22T11:02:31.660285",
     "exception": false,
     "start_time": "2022-06-22T11:02:31.628816",
     "status": "completed"
    },
    "tags": []
   },
   "outputs": [
    {
     "data": {
      "text/plain": [
       "(550068, 12)"
      ]
     },
     "execution_count": 3,
     "metadata": {},
     "output_type": "execute_result"
    }
   ],
   "source": [
    "df_train.shape"
   ]
  },
  {
   "cell_type": "code",
   "execution_count": 4,
   "id": "9e567031",
   "metadata": {
    "_cell_guid": "f235e1a7-40e6-40e3-8634-ad2a2feebdf3",
    "_uuid": "19146a7f-d10f-4e09-87a5-690972153cbf",
    "collapsed": false,
    "execution": {
     "iopub.execute_input": "2022-06-22T11:02:31.701563Z",
     "iopub.status.busy": "2022-06-22T11:02:31.701167Z",
     "iopub.status.idle": "2022-06-22T11:02:32.047636Z",
     "shell.execute_reply": "2022-06-22T11:02:32.046320Z"
    },
    "jupyter": {
     "outputs_hidden": false
    },
    "papermill": {
     "duration": 0.370309,
     "end_time": "2022-06-22T11:02:32.050503",
     "exception": false,
     "start_time": "2022-06-22T11:02:31.680194",
     "status": "completed"
    },
    "tags": []
   },
   "outputs": [
    {
     "data": {
      "text/html": [
       "<div>\n",
       "<style scoped>\n",
       "    .dataframe tbody tr th:only-of-type {\n",
       "        vertical-align: middle;\n",
       "    }\n",
       "\n",
       "    .dataframe tbody tr th {\n",
       "        vertical-align: top;\n",
       "    }\n",
       "\n",
       "    .dataframe thead th {\n",
       "        text-align: right;\n",
       "    }\n",
       "</style>\n",
       "<table border=\"1\" class=\"dataframe\">\n",
       "  <thead>\n",
       "    <tr style=\"text-align: right;\">\n",
       "      <th></th>\n",
       "      <th>User_ID</th>\n",
       "      <th>Product_ID</th>\n",
       "      <th>Gender</th>\n",
       "      <th>Age</th>\n",
       "      <th>Occupation</th>\n",
       "      <th>City_Category</th>\n",
       "      <th>Stay_In_Current_City_Years</th>\n",
       "      <th>Marital_Status</th>\n",
       "      <th>Product_Category_1</th>\n",
       "      <th>Product_Category_2</th>\n",
       "      <th>Product_Category_3</th>\n",
       "    </tr>\n",
       "  </thead>\n",
       "  <tbody>\n",
       "    <tr>\n",
       "      <th>0</th>\n",
       "      <td>1000004</td>\n",
       "      <td>P00128942</td>\n",
       "      <td>M</td>\n",
       "      <td>46-50</td>\n",
       "      <td>7</td>\n",
       "      <td>B</td>\n",
       "      <td>2</td>\n",
       "      <td>1</td>\n",
       "      <td>1</td>\n",
       "      <td>11.0</td>\n",
       "      <td>NaN</td>\n",
       "    </tr>\n",
       "    <tr>\n",
       "      <th>1</th>\n",
       "      <td>1000009</td>\n",
       "      <td>P00113442</td>\n",
       "      <td>M</td>\n",
       "      <td>26-35</td>\n",
       "      <td>17</td>\n",
       "      <td>C</td>\n",
       "      <td>0</td>\n",
       "      <td>0</td>\n",
       "      <td>3</td>\n",
       "      <td>5.0</td>\n",
       "      <td>NaN</td>\n",
       "    </tr>\n",
       "    <tr>\n",
       "      <th>2</th>\n",
       "      <td>1000010</td>\n",
       "      <td>P00288442</td>\n",
       "      <td>F</td>\n",
       "      <td>36-45</td>\n",
       "      <td>1</td>\n",
       "      <td>B</td>\n",
       "      <td>4+</td>\n",
       "      <td>1</td>\n",
       "      <td>5</td>\n",
       "      <td>14.0</td>\n",
       "      <td>NaN</td>\n",
       "    </tr>\n",
       "    <tr>\n",
       "      <th>3</th>\n",
       "      <td>1000010</td>\n",
       "      <td>P00145342</td>\n",
       "      <td>F</td>\n",
       "      <td>36-45</td>\n",
       "      <td>1</td>\n",
       "      <td>B</td>\n",
       "      <td>4+</td>\n",
       "      <td>1</td>\n",
       "      <td>4</td>\n",
       "      <td>9.0</td>\n",
       "      <td>NaN</td>\n",
       "    </tr>\n",
       "    <tr>\n",
       "      <th>4</th>\n",
       "      <td>1000011</td>\n",
       "      <td>P00053842</td>\n",
       "      <td>F</td>\n",
       "      <td>26-35</td>\n",
       "      <td>1</td>\n",
       "      <td>C</td>\n",
       "      <td>1</td>\n",
       "      <td>0</td>\n",
       "      <td>4</td>\n",
       "      <td>5.0</td>\n",
       "      <td>12.0</td>\n",
       "    </tr>\n",
       "  </tbody>\n",
       "</table>\n",
       "</div>"
      ],
      "text/plain": [
       "   User_ID Product_ID Gender    Age  Occupation City_Category  \\\n",
       "0  1000004  P00128942      M  46-50           7             B   \n",
       "1  1000009  P00113442      M  26-35          17             C   \n",
       "2  1000010  P00288442      F  36-45           1             B   \n",
       "3  1000010  P00145342      F  36-45           1             B   \n",
       "4  1000011  P00053842      F  26-35           1             C   \n",
       "\n",
       "  Stay_In_Current_City_Years  Marital_Status  Product_Category_1  \\\n",
       "0                          2               1                   1   \n",
       "1                          0               0                   3   \n",
       "2                         4+               1                   5   \n",
       "3                         4+               1                   4   \n",
       "4                          1               0                   4   \n",
       "\n",
       "   Product_Category_2  Product_Category_3  \n",
       "0                11.0                 NaN  \n",
       "1                 5.0                 NaN  \n",
       "2                14.0                 NaN  \n",
       "3                 9.0                 NaN  \n",
       "4                 5.0                12.0  "
      ]
     },
     "execution_count": 4,
     "metadata": {},
     "output_type": "execute_result"
    }
   ],
   "source": [
    "#importing the test data\n",
    "df_test=pd.read_csv(\"../input/black-friday/test.csv\")\n",
    "df_test.head()"
   ]
  },
  {
   "cell_type": "code",
   "execution_count": 5,
   "id": "f41e48fb",
   "metadata": {
    "_cell_guid": "0b9ffded-7001-4c04-9e9c-b39841174e8d",
    "_uuid": "88ef690c-236d-420e-bb79-301829710b6a",
    "collapsed": false,
    "execution": {
     "iopub.execute_input": "2022-06-22T11:02:32.097842Z",
     "iopub.status.busy": "2022-06-22T11:02:32.096923Z",
     "iopub.status.idle": "2022-06-22T11:02:32.104167Z",
     "shell.execute_reply": "2022-06-22T11:02:32.103180Z"
    },
    "jupyter": {
     "outputs_hidden": false
    },
    "papermill": {
     "duration": 0.033393,
     "end_time": "2022-06-22T11:02:32.106455",
     "exception": false,
     "start_time": "2022-06-22T11:02:32.073062",
     "status": "completed"
    },
    "tags": []
   },
   "outputs": [
    {
     "data": {
      "text/plain": [
       "(233599, 11)"
      ]
     },
     "execution_count": 5,
     "metadata": {},
     "output_type": "execute_result"
    }
   ],
   "source": [
    "df_test.shape"
   ]
  },
  {
   "cell_type": "code",
   "execution_count": 6,
   "id": "a4be2ca2",
   "metadata": {
    "_cell_guid": "3b0ecf85-2ee4-49de-abfe-6e7915ac6fe6",
    "_uuid": "1e85c80e-e6bb-43b9-a928-94e150b84e10",
    "collapsed": false,
    "execution": {
     "iopub.execute_input": "2022-06-22T11:02:32.150751Z",
     "iopub.status.busy": "2022-06-22T11:02:32.150318Z",
     "iopub.status.idle": "2022-06-22T11:02:32.348245Z",
     "shell.execute_reply": "2022-06-22T11:02:32.347495Z"
    },
    "jupyter": {
     "outputs_hidden": false
    },
    "papermill": {
     "duration": 0.223188,
     "end_time": "2022-06-22T11:02:32.350169",
     "exception": false,
     "start_time": "2022-06-22T11:02:32.126981",
     "status": "completed"
    },
    "tags": []
   },
   "outputs": [
    {
     "data": {
      "text/html": [
       "<div>\n",
       "<style scoped>\n",
       "    .dataframe tbody tr th:only-of-type {\n",
       "        vertical-align: middle;\n",
       "    }\n",
       "\n",
       "    .dataframe tbody tr th {\n",
       "        vertical-align: top;\n",
       "    }\n",
       "\n",
       "    .dataframe thead th {\n",
       "        text-align: right;\n",
       "    }\n",
       "</style>\n",
       "<table border=\"1\" class=\"dataframe\">\n",
       "  <thead>\n",
       "    <tr style=\"text-align: right;\">\n",
       "      <th></th>\n",
       "      <th>User_ID</th>\n",
       "      <th>Product_ID</th>\n",
       "      <th>Gender</th>\n",
       "      <th>Age</th>\n",
       "      <th>Occupation</th>\n",
       "      <th>City_Category</th>\n",
       "      <th>Stay_In_Current_City_Years</th>\n",
       "      <th>Marital_Status</th>\n",
       "      <th>Product_Category_1</th>\n",
       "      <th>Product_Category_2</th>\n",
       "      <th>Product_Category_3</th>\n",
       "      <th>Purchase</th>\n",
       "    </tr>\n",
       "  </thead>\n",
       "  <tbody>\n",
       "    <tr>\n",
       "      <th>0</th>\n",
       "      <td>1000001</td>\n",
       "      <td>P00069042</td>\n",
       "      <td>F</td>\n",
       "      <td>0-17</td>\n",
       "      <td>10</td>\n",
       "      <td>A</td>\n",
       "      <td>2</td>\n",
       "      <td>0</td>\n",
       "      <td>3</td>\n",
       "      <td>NaN</td>\n",
       "      <td>NaN</td>\n",
       "      <td>8370.0</td>\n",
       "    </tr>\n",
       "    <tr>\n",
       "      <th>1</th>\n",
       "      <td>1000001</td>\n",
       "      <td>P00248942</td>\n",
       "      <td>F</td>\n",
       "      <td>0-17</td>\n",
       "      <td>10</td>\n",
       "      <td>A</td>\n",
       "      <td>2</td>\n",
       "      <td>0</td>\n",
       "      <td>1</td>\n",
       "      <td>6.0</td>\n",
       "      <td>14.0</td>\n",
       "      <td>15200.0</td>\n",
       "    </tr>\n",
       "    <tr>\n",
       "      <th>2</th>\n",
       "      <td>1000001</td>\n",
       "      <td>P00087842</td>\n",
       "      <td>F</td>\n",
       "      <td>0-17</td>\n",
       "      <td>10</td>\n",
       "      <td>A</td>\n",
       "      <td>2</td>\n",
       "      <td>0</td>\n",
       "      <td>12</td>\n",
       "      <td>NaN</td>\n",
       "      <td>NaN</td>\n",
       "      <td>1422.0</td>\n",
       "    </tr>\n",
       "    <tr>\n",
       "      <th>3</th>\n",
       "      <td>1000001</td>\n",
       "      <td>P00085442</td>\n",
       "      <td>F</td>\n",
       "      <td>0-17</td>\n",
       "      <td>10</td>\n",
       "      <td>A</td>\n",
       "      <td>2</td>\n",
       "      <td>0</td>\n",
       "      <td>12</td>\n",
       "      <td>14.0</td>\n",
       "      <td>NaN</td>\n",
       "      <td>1057.0</td>\n",
       "    </tr>\n",
       "    <tr>\n",
       "      <th>4</th>\n",
       "      <td>1000002</td>\n",
       "      <td>P00285442</td>\n",
       "      <td>M</td>\n",
       "      <td>55+</td>\n",
       "      <td>16</td>\n",
       "      <td>C</td>\n",
       "      <td>4+</td>\n",
       "      <td>0</td>\n",
       "      <td>8</td>\n",
       "      <td>NaN</td>\n",
       "      <td>NaN</td>\n",
       "      <td>7969.0</td>\n",
       "    </tr>\n",
       "  </tbody>\n",
       "</table>\n",
       "</div>"
      ],
      "text/plain": [
       "   User_ID Product_ID Gender   Age  Occupation City_Category  \\\n",
       "0  1000001  P00069042      F  0-17          10             A   \n",
       "1  1000001  P00248942      F  0-17          10             A   \n",
       "2  1000001  P00087842      F  0-17          10             A   \n",
       "3  1000001  P00085442      F  0-17          10             A   \n",
       "4  1000002  P00285442      M   55+          16             C   \n",
       "\n",
       "  Stay_In_Current_City_Years  Marital_Status  Product_Category_1  \\\n",
       "0                          2               0                   3   \n",
       "1                          2               0                   1   \n",
       "2                          2               0                  12   \n",
       "3                          2               0                  12   \n",
       "4                         4+               0                   8   \n",
       "\n",
       "   Product_Category_2  Product_Category_3  Purchase  \n",
       "0                 NaN                 NaN    8370.0  \n",
       "1                 6.0                14.0   15200.0  \n",
       "2                 NaN                 NaN    1422.0  \n",
       "3                14.0                 NaN    1057.0  \n",
       "4                 NaN                 NaN    7969.0  "
      ]
     },
     "execution_count": 6,
     "metadata": {},
     "output_type": "execute_result"
    }
   ],
   "source": [
    "#merge both train and test data sets\n",
    "new_df = pd.concat([df_train,df_test])\n",
    "new_df.head()"
   ]
  },
  {
   "cell_type": "code",
   "execution_count": 7,
   "id": "77b3283e",
   "metadata": {
    "_cell_guid": "94701b40-b021-44e0-880a-602cd54e4f32",
    "_uuid": "efc46095-71f0-44ca-9d66-f0128ec369df",
    "collapsed": false,
    "execution": {
     "iopub.execute_input": "2022-06-22T11:02:32.394871Z",
     "iopub.status.busy": "2022-06-22T11:02:32.393826Z",
     "iopub.status.idle": "2022-06-22T11:02:32.401553Z",
     "shell.execute_reply": "2022-06-22T11:02:32.400402Z"
    },
    "jupyter": {
     "outputs_hidden": false
    },
    "papermill": {
     "duration": 0.032871,
     "end_time": "2022-06-22T11:02:32.404242",
     "exception": false,
     "start_time": "2022-06-22T11:02:32.371371",
     "status": "completed"
    },
    "tags": []
   },
   "outputs": [
    {
     "data": {
      "text/plain": [
       "(783667, 12)"
      ]
     },
     "execution_count": 7,
     "metadata": {},
     "output_type": "execute_result"
    }
   ],
   "source": [
    "new_df.shape"
   ]
  },
  {
   "cell_type": "code",
   "execution_count": 8,
   "id": "36e2c30b",
   "metadata": {
    "_cell_guid": "1a87b0fa-1ed1-47d1-8e27-7642c19410d3",
    "_uuid": "c965fbda-5bb9-4ebd-9d31-9dde3391664a",
    "collapsed": false,
    "execution": {
     "iopub.execute_input": "2022-06-22T11:02:32.448731Z",
     "iopub.status.busy": "2022-06-22T11:02:32.448235Z",
     "iopub.status.idle": "2022-06-22T11:02:32.909840Z",
     "shell.execute_reply": "2022-06-22T11:02:32.907818Z"
    },
    "jupyter": {
     "outputs_hidden": false
    },
    "papermill": {
     "duration": 0.487157,
     "end_time": "2022-06-22T11:02:32.912763",
     "exception": false,
     "start_time": "2022-06-22T11:02:32.425606",
     "status": "completed"
    },
    "tags": []
   },
   "outputs": [
    {
     "name": "stdout",
     "output_type": "stream",
     "text": [
      "<class 'pandas.core.frame.DataFrame'>\n",
      "Int64Index: 783667 entries, 0 to 233598\n",
      "Data columns (total 12 columns):\n",
      " #   Column                      Non-Null Count   Dtype  \n",
      "---  ------                      --------------   -----  \n",
      " 0   User_ID                     783667 non-null  int64  \n",
      " 1   Product_ID                  783667 non-null  object \n",
      " 2   Gender                      783667 non-null  object \n",
      " 3   Age                         783667 non-null  object \n",
      " 4   Occupation                  783667 non-null  int64  \n",
      " 5   City_Category               783667 non-null  object \n",
      " 6   Stay_In_Current_City_Years  783667 non-null  object \n",
      " 7   Marital_Status              783667 non-null  int64  \n",
      " 8   Product_Category_1          783667 non-null  int64  \n",
      " 9   Product_Category_2          537685 non-null  float64\n",
      " 10  Product_Category_3          237858 non-null  float64\n",
      " 11  Purchase                    550068 non-null  float64\n",
      "dtypes: float64(3), int64(4), object(5)\n",
      "memory usage: 77.7+ MB\n"
     ]
    }
   ],
   "source": [
    "##Basic\n",
    "new_df.info()"
   ]
  },
  {
   "cell_type": "code",
   "execution_count": 9,
   "id": "9794b8ee",
   "metadata": {
    "_cell_guid": "ff9d7db0-89a2-45e1-b8af-e61d02c611fa",
    "_uuid": "665fa064-9328-4d13-9e0a-f227413d97d3",
    "collapsed": false,
    "execution": {
     "iopub.execute_input": "2022-06-22T11:02:32.960325Z",
     "iopub.status.busy": "2022-06-22T11:02:32.959506Z",
     "iopub.status.idle": "2022-06-22T11:02:33.526732Z",
     "shell.execute_reply": "2022-06-22T11:02:33.525713Z"
    },
    "jupyter": {
     "outputs_hidden": false
    },
    "papermill": {
     "duration": 0.59397,
     "end_time": "2022-06-22T11:02:33.529244",
     "exception": false,
     "start_time": "2022-06-22T11:02:32.935274",
     "status": "completed"
    },
    "tags": []
   },
   "outputs": [
    {
     "data": {
      "text/html": [
       "<div>\n",
       "<style scoped>\n",
       "    .dataframe tbody tr th:only-of-type {\n",
       "        vertical-align: middle;\n",
       "    }\n",
       "\n",
       "    .dataframe tbody tr th {\n",
       "        vertical-align: top;\n",
       "    }\n",
       "\n",
       "    .dataframe thead th {\n",
       "        text-align: right;\n",
       "    }\n",
       "</style>\n",
       "<table border=\"1\" class=\"dataframe\">\n",
       "  <thead>\n",
       "    <tr style=\"text-align: right;\">\n",
       "      <th></th>\n",
       "      <th>User_ID</th>\n",
       "      <th>Occupation</th>\n",
       "      <th>Marital_Status</th>\n",
       "      <th>Product_Category_1</th>\n",
       "      <th>Product_Category_2</th>\n",
       "      <th>Product_Category_3</th>\n",
       "      <th>Purchase</th>\n",
       "    </tr>\n",
       "  </thead>\n",
       "  <tbody>\n",
       "    <tr>\n",
       "      <th>count</th>\n",
       "      <td>7.836670e+05</td>\n",
       "      <td>783667.000000</td>\n",
       "      <td>783667.000000</td>\n",
       "      <td>783667.000000</td>\n",
       "      <td>537685.000000</td>\n",
       "      <td>237858.000000</td>\n",
       "      <td>550068.000000</td>\n",
       "    </tr>\n",
       "    <tr>\n",
       "      <th>mean</th>\n",
       "      <td>1.003029e+06</td>\n",
       "      <td>8.079300</td>\n",
       "      <td>0.409777</td>\n",
       "      <td>5.366196</td>\n",
       "      <td>9.844506</td>\n",
       "      <td>12.668605</td>\n",
       "      <td>9263.968713</td>\n",
       "    </tr>\n",
       "    <tr>\n",
       "      <th>std</th>\n",
       "      <td>1.727267e+03</td>\n",
       "      <td>6.522206</td>\n",
       "      <td>0.491793</td>\n",
       "      <td>3.878160</td>\n",
       "      <td>5.089093</td>\n",
       "      <td>4.125510</td>\n",
       "      <td>5023.065394</td>\n",
       "    </tr>\n",
       "    <tr>\n",
       "      <th>min</th>\n",
       "      <td>1.000001e+06</td>\n",
       "      <td>0.000000</td>\n",
       "      <td>0.000000</td>\n",
       "      <td>1.000000</td>\n",
       "      <td>2.000000</td>\n",
       "      <td>3.000000</td>\n",
       "      <td>12.000000</td>\n",
       "    </tr>\n",
       "    <tr>\n",
       "      <th>25%</th>\n",
       "      <td>1.001519e+06</td>\n",
       "      <td>2.000000</td>\n",
       "      <td>0.000000</td>\n",
       "      <td>1.000000</td>\n",
       "      <td>5.000000</td>\n",
       "      <td>9.000000</td>\n",
       "      <td>5823.000000</td>\n",
       "    </tr>\n",
       "    <tr>\n",
       "      <th>50%</th>\n",
       "      <td>1.003075e+06</td>\n",
       "      <td>7.000000</td>\n",
       "      <td>0.000000</td>\n",
       "      <td>5.000000</td>\n",
       "      <td>9.000000</td>\n",
       "      <td>14.000000</td>\n",
       "      <td>8047.000000</td>\n",
       "    </tr>\n",
       "    <tr>\n",
       "      <th>75%</th>\n",
       "      <td>1.004478e+06</td>\n",
       "      <td>14.000000</td>\n",
       "      <td>1.000000</td>\n",
       "      <td>8.000000</td>\n",
       "      <td>15.000000</td>\n",
       "      <td>16.000000</td>\n",
       "      <td>12054.000000</td>\n",
       "    </tr>\n",
       "    <tr>\n",
       "      <th>max</th>\n",
       "      <td>1.006040e+06</td>\n",
       "      <td>20.000000</td>\n",
       "      <td>1.000000</td>\n",
       "      <td>20.000000</td>\n",
       "      <td>18.000000</td>\n",
       "      <td>18.000000</td>\n",
       "      <td>23961.000000</td>\n",
       "    </tr>\n",
       "  </tbody>\n",
       "</table>\n",
       "</div>"
      ],
      "text/plain": [
       "            User_ID     Occupation  Marital_Status  Product_Category_1  \\\n",
       "count  7.836670e+05  783667.000000   783667.000000       783667.000000   \n",
       "mean   1.003029e+06       8.079300        0.409777            5.366196   \n",
       "std    1.727267e+03       6.522206        0.491793            3.878160   \n",
       "min    1.000001e+06       0.000000        0.000000            1.000000   \n",
       "25%    1.001519e+06       2.000000        0.000000            1.000000   \n",
       "50%    1.003075e+06       7.000000        0.000000            5.000000   \n",
       "75%    1.004478e+06      14.000000        1.000000            8.000000   \n",
       "max    1.006040e+06      20.000000        1.000000           20.000000   \n",
       "\n",
       "       Product_Category_2  Product_Category_3       Purchase  \n",
       "count       537685.000000       237858.000000  550068.000000  \n",
       "mean             9.844506           12.668605    9263.968713  \n",
       "std              5.089093            4.125510    5023.065394  \n",
       "min              2.000000            3.000000      12.000000  \n",
       "25%              5.000000            9.000000    5823.000000  \n",
       "50%              9.000000           14.000000    8047.000000  \n",
       "75%             15.000000           16.000000   12054.000000  \n",
       "max             18.000000           18.000000   23961.000000  "
      ]
     },
     "execution_count": 9,
     "metadata": {},
     "output_type": "execute_result"
    }
   ],
   "source": [
    "new_df.describe()"
   ]
  },
  {
   "cell_type": "code",
   "execution_count": 10,
   "id": "5cbae0fa",
   "metadata": {
    "_cell_guid": "7f60f213-d4ab-4931-bc35-8750638fd58d",
    "_uuid": "9d38ce67-7a03-4b1d-a394-9fe4bd2c7464",
    "collapsed": false,
    "execution": {
     "iopub.execute_input": "2022-06-22T11:02:33.576156Z",
     "iopub.status.busy": "2022-06-22T11:02:33.575484Z",
     "iopub.status.idle": "2022-06-22T11:02:33.640454Z",
     "shell.execute_reply": "2022-06-22T11:02:33.639398Z"
    },
    "jupyter": {
     "outputs_hidden": false
    },
    "papermill": {
     "duration": 0.091394,
     "end_time": "2022-06-22T11:02:33.643001",
     "exception": false,
     "start_time": "2022-06-22T11:02:33.551607",
     "status": "completed"
    },
    "tags": []
   },
   "outputs": [],
   "source": [
    "#droping the user_id column\n",
    "new_df.drop(['User_ID'],axis=1,inplace=True)"
   ]
  },
  {
   "cell_type": "code",
   "execution_count": 11,
   "id": "85c57319",
   "metadata": {
    "_cell_guid": "0c77b7bb-fae8-4f5d-b389-88b78c9457f7",
    "_uuid": "e29266e6-92dc-4779-9bd5-3749d23ca692",
    "collapsed": false,
    "execution": {
     "iopub.execute_input": "2022-06-22T11:02:33.689762Z",
     "iopub.status.busy": "2022-06-22T11:02:33.689279Z",
     "iopub.status.idle": "2022-06-22T11:02:33.706469Z",
     "shell.execute_reply": "2022-06-22T11:02:33.705614Z"
    },
    "jupyter": {
     "outputs_hidden": false
    },
    "papermill": {
     "duration": 0.043172,
     "end_time": "2022-06-22T11:02:33.708667",
     "exception": false,
     "start_time": "2022-06-22T11:02:33.665495",
     "status": "completed"
    },
    "tags": []
   },
   "outputs": [
    {
     "data": {
      "text/html": [
       "<div>\n",
       "<style scoped>\n",
       "    .dataframe tbody tr th:only-of-type {\n",
       "        vertical-align: middle;\n",
       "    }\n",
       "\n",
       "    .dataframe tbody tr th {\n",
       "        vertical-align: top;\n",
       "    }\n",
       "\n",
       "    .dataframe thead th {\n",
       "        text-align: right;\n",
       "    }\n",
       "</style>\n",
       "<table border=\"1\" class=\"dataframe\">\n",
       "  <thead>\n",
       "    <tr style=\"text-align: right;\">\n",
       "      <th></th>\n",
       "      <th>Product_ID</th>\n",
       "      <th>Gender</th>\n",
       "      <th>Age</th>\n",
       "      <th>Occupation</th>\n",
       "      <th>City_Category</th>\n",
       "      <th>Stay_In_Current_City_Years</th>\n",
       "      <th>Marital_Status</th>\n",
       "      <th>Product_Category_1</th>\n",
       "      <th>Product_Category_2</th>\n",
       "      <th>Product_Category_3</th>\n",
       "      <th>Purchase</th>\n",
       "    </tr>\n",
       "  </thead>\n",
       "  <tbody>\n",
       "    <tr>\n",
       "      <th>0</th>\n",
       "      <td>P00069042</td>\n",
       "      <td>F</td>\n",
       "      <td>0-17</td>\n",
       "      <td>10</td>\n",
       "      <td>A</td>\n",
       "      <td>2</td>\n",
       "      <td>0</td>\n",
       "      <td>3</td>\n",
       "      <td>NaN</td>\n",
       "      <td>NaN</td>\n",
       "      <td>8370.0</td>\n",
       "    </tr>\n",
       "    <tr>\n",
       "      <th>1</th>\n",
       "      <td>P00248942</td>\n",
       "      <td>F</td>\n",
       "      <td>0-17</td>\n",
       "      <td>10</td>\n",
       "      <td>A</td>\n",
       "      <td>2</td>\n",
       "      <td>0</td>\n",
       "      <td>1</td>\n",
       "      <td>6.0</td>\n",
       "      <td>14.0</td>\n",
       "      <td>15200.0</td>\n",
       "    </tr>\n",
       "    <tr>\n",
       "      <th>2</th>\n",
       "      <td>P00087842</td>\n",
       "      <td>F</td>\n",
       "      <td>0-17</td>\n",
       "      <td>10</td>\n",
       "      <td>A</td>\n",
       "      <td>2</td>\n",
       "      <td>0</td>\n",
       "      <td>12</td>\n",
       "      <td>NaN</td>\n",
       "      <td>NaN</td>\n",
       "      <td>1422.0</td>\n",
       "    </tr>\n",
       "    <tr>\n",
       "      <th>3</th>\n",
       "      <td>P00085442</td>\n",
       "      <td>F</td>\n",
       "      <td>0-17</td>\n",
       "      <td>10</td>\n",
       "      <td>A</td>\n",
       "      <td>2</td>\n",
       "      <td>0</td>\n",
       "      <td>12</td>\n",
       "      <td>14.0</td>\n",
       "      <td>NaN</td>\n",
       "      <td>1057.0</td>\n",
       "    </tr>\n",
       "    <tr>\n",
       "      <th>4</th>\n",
       "      <td>P00285442</td>\n",
       "      <td>M</td>\n",
       "      <td>55+</td>\n",
       "      <td>16</td>\n",
       "      <td>C</td>\n",
       "      <td>4+</td>\n",
       "      <td>0</td>\n",
       "      <td>8</td>\n",
       "      <td>NaN</td>\n",
       "      <td>NaN</td>\n",
       "      <td>7969.0</td>\n",
       "    </tr>\n",
       "  </tbody>\n",
       "</table>\n",
       "</div>"
      ],
      "text/plain": [
       "  Product_ID Gender   Age  Occupation City_Category  \\\n",
       "0  P00069042      F  0-17          10             A   \n",
       "1  P00248942      F  0-17          10             A   \n",
       "2  P00087842      F  0-17          10             A   \n",
       "3  P00085442      F  0-17          10             A   \n",
       "4  P00285442      M   55+          16             C   \n",
       "\n",
       "  Stay_In_Current_City_Years  Marital_Status  Product_Category_1  \\\n",
       "0                          2               0                   3   \n",
       "1                          2               0                   1   \n",
       "2                          2               0                  12   \n",
       "3                          2               0                  12   \n",
       "4                         4+               0                   8   \n",
       "\n",
       "   Product_Category_2  Product_Category_3  Purchase  \n",
       "0                 NaN                 NaN    8370.0  \n",
       "1                 6.0                14.0   15200.0  \n",
       "2                 NaN                 NaN    1422.0  \n",
       "3                14.0                 NaN    1057.0  \n",
       "4                 NaN                 NaN    7969.0  "
      ]
     },
     "execution_count": 11,
     "metadata": {},
     "output_type": "execute_result"
    }
   ],
   "source": [
    "new_df.head()"
   ]
  },
  {
   "cell_type": "code",
   "execution_count": 12,
   "id": "08a28847",
   "metadata": {
    "_cell_guid": "a4fa5162-078a-432e-9c6a-1a864aad53d4",
    "_uuid": "518af8ce-c428-4ca9-91bc-2b9a50854c42",
    "collapsed": false,
    "execution": {
     "iopub.execute_input": "2022-06-22T11:02:33.756343Z",
     "iopub.status.busy": "2022-06-22T11:02:33.755471Z",
     "iopub.status.idle": "2022-06-22T11:02:33.828270Z",
     "shell.execute_reply": "2022-06-22T11:02:33.827338Z"
    },
    "jupyter": {
     "outputs_hidden": false
    },
    "papermill": {
     "duration": 0.099148,
     "end_time": "2022-06-22T11:02:33.831125",
     "exception": false,
     "start_time": "2022-06-22T11:02:33.731977",
     "status": "completed"
    },
    "tags": []
   },
   "outputs": [],
   "source": [
    "#Handling Cateforical feature Age\n",
    "new_df['Gender'] = new_df['Gender'].map({'F':1,'M':0})"
   ]
  },
  {
   "cell_type": "code",
   "execution_count": 13,
   "id": "ac98a082",
   "metadata": {
    "_cell_guid": "6943935e-5912-4b8e-81fd-d271c6d4b056",
    "_uuid": "4f00d713-4dfe-4e99-9dbb-cd60c96a5cf4",
    "collapsed": false,
    "execution": {
     "iopub.execute_input": "2022-06-22T11:02:33.879788Z",
     "iopub.status.busy": "2022-06-22T11:02:33.879132Z",
     "iopub.status.idle": "2022-06-22T11:02:33.895541Z",
     "shell.execute_reply": "2022-06-22T11:02:33.894757Z"
    },
    "jupyter": {
     "outputs_hidden": false
    },
    "papermill": {
     "duration": 0.043109,
     "end_time": "2022-06-22T11:02:33.897531",
     "exception": false,
     "start_time": "2022-06-22T11:02:33.854422",
     "status": "completed"
    },
    "tags": []
   },
   "outputs": [
    {
     "data": {
      "text/html": [
       "<div>\n",
       "<style scoped>\n",
       "    .dataframe tbody tr th:only-of-type {\n",
       "        vertical-align: middle;\n",
       "    }\n",
       "\n",
       "    .dataframe tbody tr th {\n",
       "        vertical-align: top;\n",
       "    }\n",
       "\n",
       "    .dataframe thead th {\n",
       "        text-align: right;\n",
       "    }\n",
       "</style>\n",
       "<table border=\"1\" class=\"dataframe\">\n",
       "  <thead>\n",
       "    <tr style=\"text-align: right;\">\n",
       "      <th></th>\n",
       "      <th>Product_ID</th>\n",
       "      <th>Gender</th>\n",
       "      <th>Age</th>\n",
       "      <th>Occupation</th>\n",
       "      <th>City_Category</th>\n",
       "      <th>Stay_In_Current_City_Years</th>\n",
       "      <th>Marital_Status</th>\n",
       "      <th>Product_Category_1</th>\n",
       "      <th>Product_Category_2</th>\n",
       "      <th>Product_Category_3</th>\n",
       "      <th>Purchase</th>\n",
       "    </tr>\n",
       "  </thead>\n",
       "  <tbody>\n",
       "    <tr>\n",
       "      <th>0</th>\n",
       "      <td>P00069042</td>\n",
       "      <td>1</td>\n",
       "      <td>0-17</td>\n",
       "      <td>10</td>\n",
       "      <td>A</td>\n",
       "      <td>2</td>\n",
       "      <td>0</td>\n",
       "      <td>3</td>\n",
       "      <td>NaN</td>\n",
       "      <td>NaN</td>\n",
       "      <td>8370.0</td>\n",
       "    </tr>\n",
       "    <tr>\n",
       "      <th>1</th>\n",
       "      <td>P00248942</td>\n",
       "      <td>1</td>\n",
       "      <td>0-17</td>\n",
       "      <td>10</td>\n",
       "      <td>A</td>\n",
       "      <td>2</td>\n",
       "      <td>0</td>\n",
       "      <td>1</td>\n",
       "      <td>6.0</td>\n",
       "      <td>14.0</td>\n",
       "      <td>15200.0</td>\n",
       "    </tr>\n",
       "    <tr>\n",
       "      <th>2</th>\n",
       "      <td>P00087842</td>\n",
       "      <td>1</td>\n",
       "      <td>0-17</td>\n",
       "      <td>10</td>\n",
       "      <td>A</td>\n",
       "      <td>2</td>\n",
       "      <td>0</td>\n",
       "      <td>12</td>\n",
       "      <td>NaN</td>\n",
       "      <td>NaN</td>\n",
       "      <td>1422.0</td>\n",
       "    </tr>\n",
       "    <tr>\n",
       "      <th>3</th>\n",
       "      <td>P00085442</td>\n",
       "      <td>1</td>\n",
       "      <td>0-17</td>\n",
       "      <td>10</td>\n",
       "      <td>A</td>\n",
       "      <td>2</td>\n",
       "      <td>0</td>\n",
       "      <td>12</td>\n",
       "      <td>14.0</td>\n",
       "      <td>NaN</td>\n",
       "      <td>1057.0</td>\n",
       "    </tr>\n",
       "    <tr>\n",
       "      <th>4</th>\n",
       "      <td>P00285442</td>\n",
       "      <td>0</td>\n",
       "      <td>55+</td>\n",
       "      <td>16</td>\n",
       "      <td>C</td>\n",
       "      <td>4+</td>\n",
       "      <td>0</td>\n",
       "      <td>8</td>\n",
       "      <td>NaN</td>\n",
       "      <td>NaN</td>\n",
       "      <td>7969.0</td>\n",
       "    </tr>\n",
       "  </tbody>\n",
       "</table>\n",
       "</div>"
      ],
      "text/plain": [
       "  Product_ID  Gender   Age  Occupation City_Category  \\\n",
       "0  P00069042       1  0-17          10             A   \n",
       "1  P00248942       1  0-17          10             A   \n",
       "2  P00087842       1  0-17          10             A   \n",
       "3  P00085442       1  0-17          10             A   \n",
       "4  P00285442       0   55+          16             C   \n",
       "\n",
       "  Stay_In_Current_City_Years  Marital_Status  Product_Category_1  \\\n",
       "0                          2               0                   3   \n",
       "1                          2               0                   1   \n",
       "2                          2               0                  12   \n",
       "3                          2               0                  12   \n",
       "4                         4+               0                   8   \n",
       "\n",
       "   Product_Category_2  Product_Category_3  Purchase  \n",
       "0                 NaN                 NaN    8370.0  \n",
       "1                 6.0                14.0   15200.0  \n",
       "2                 NaN                 NaN    1422.0  \n",
       "3                14.0                 NaN    1057.0  \n",
       "4                 NaN                 NaN    7969.0  "
      ]
     },
     "execution_count": 13,
     "metadata": {},
     "output_type": "execute_result"
    }
   ],
   "source": [
    "new_df.head()"
   ]
  },
  {
   "cell_type": "code",
   "execution_count": 14,
   "id": "c6a60448",
   "metadata": {
    "_cell_guid": "a552c97a-0826-47af-a08d-0b375ea329f4",
    "_uuid": "ae3af8fb-0df6-4709-ab95-a979495024ae",
    "collapsed": false,
    "execution": {
     "iopub.execute_input": "2022-06-22T11:02:33.944874Z",
     "iopub.status.busy": "2022-06-22T11:02:33.944228Z",
     "iopub.status.idle": "2022-06-22T11:02:34.011513Z",
     "shell.execute_reply": "2022-06-22T11:02:34.010175Z"
    },
    "jupyter": {
     "outputs_hidden": false
    },
    "papermill": {
     "duration": 0.09368,
     "end_time": "2022-06-22T11:02:34.013984",
     "exception": false,
     "start_time": "2022-06-22T11:02:33.920304",
     "status": "completed"
    },
    "tags": []
   },
   "outputs": [
    {
     "data": {
      "text/plain": [
       "array(['0-17', '55+', '26-35', '46-50', '51-55', '36-45', '18-25'],\n",
       "      dtype=object)"
      ]
     },
     "execution_count": 14,
     "metadata": {},
     "output_type": "execute_result"
    }
   ],
   "source": [
    "#Handling the Categorical feature Age\n",
    "#new_df.Age.value_counts()\n",
    "new_df.Age.unique()"
   ]
  },
  {
   "cell_type": "code",
   "execution_count": 15,
   "id": "492c7332",
   "metadata": {
    "_cell_guid": "dfd1c6f6-e529-49a5-b334-a08e1f36c8c0",
    "_uuid": "9c18099d-670c-44cf-80b4-21a93c48c74d",
    "collapsed": false,
    "execution": {
     "iopub.execute_input": "2022-06-22T11:02:34.061949Z",
     "iopub.status.busy": "2022-06-22T11:02:34.061072Z",
     "iopub.status.idle": "2022-06-22T11:02:34.158408Z",
     "shell.execute_reply": "2022-06-22T11:02:34.157310Z"
    },
    "jupyter": {
     "outputs_hidden": false
    },
    "papermill": {
     "duration": 0.124556,
     "end_time": "2022-06-22T11:02:34.161312",
     "exception": false,
     "start_time": "2022-06-22T11:02:34.036756",
     "status": "completed"
    },
    "tags": []
   },
   "outputs": [],
   "source": [
    "#pd.get_dummies(new_df['Age'],drop_first=True)(Traget Ordinal enconding)\n",
    "new_df['Age'] = new_df['Age'].map({'0-17':1,'18-25':2,'26-35':3,'36-45':4,'46-50':5,'51-55':6,'55+':7})"
   ]
  },
  {
   "cell_type": "code",
   "execution_count": 16,
   "id": "e15f2724",
   "metadata": {
    "_cell_guid": "11cb0a5c-c0aa-4e4c-97c3-bcf9b4f0ca64",
    "_uuid": "6a4b3fb5-ee4b-40ee-90bf-7e62ae7eb1b6",
    "collapsed": false,
    "execution": {
     "iopub.execute_input": "2022-06-22T11:02:34.209061Z",
     "iopub.status.busy": "2022-06-22T11:02:34.208646Z",
     "iopub.status.idle": "2022-06-22T11:02:34.225525Z",
     "shell.execute_reply": "2022-06-22T11:02:34.224563Z"
    },
    "jupyter": {
     "outputs_hidden": false
    },
    "papermill": {
     "duration": 0.0434,
     "end_time": "2022-06-22T11:02:34.228011",
     "exception": false,
     "start_time": "2022-06-22T11:02:34.184611",
     "status": "completed"
    },
    "tags": []
   },
   "outputs": [
    {
     "data": {
      "text/html": [
       "<div>\n",
       "<style scoped>\n",
       "    .dataframe tbody tr th:only-of-type {\n",
       "        vertical-align: middle;\n",
       "    }\n",
       "\n",
       "    .dataframe tbody tr th {\n",
       "        vertical-align: top;\n",
       "    }\n",
       "\n",
       "    .dataframe thead th {\n",
       "        text-align: right;\n",
       "    }\n",
       "</style>\n",
       "<table border=\"1\" class=\"dataframe\">\n",
       "  <thead>\n",
       "    <tr style=\"text-align: right;\">\n",
       "      <th></th>\n",
       "      <th>Product_ID</th>\n",
       "      <th>Gender</th>\n",
       "      <th>Age</th>\n",
       "      <th>Occupation</th>\n",
       "      <th>City_Category</th>\n",
       "      <th>Stay_In_Current_City_Years</th>\n",
       "      <th>Marital_Status</th>\n",
       "      <th>Product_Category_1</th>\n",
       "      <th>Product_Category_2</th>\n",
       "      <th>Product_Category_3</th>\n",
       "      <th>Purchase</th>\n",
       "    </tr>\n",
       "  </thead>\n",
       "  <tbody>\n",
       "    <tr>\n",
       "      <th>0</th>\n",
       "      <td>P00069042</td>\n",
       "      <td>1</td>\n",
       "      <td>1</td>\n",
       "      <td>10</td>\n",
       "      <td>A</td>\n",
       "      <td>2</td>\n",
       "      <td>0</td>\n",
       "      <td>3</td>\n",
       "      <td>NaN</td>\n",
       "      <td>NaN</td>\n",
       "      <td>8370.0</td>\n",
       "    </tr>\n",
       "    <tr>\n",
       "      <th>1</th>\n",
       "      <td>P00248942</td>\n",
       "      <td>1</td>\n",
       "      <td>1</td>\n",
       "      <td>10</td>\n",
       "      <td>A</td>\n",
       "      <td>2</td>\n",
       "      <td>0</td>\n",
       "      <td>1</td>\n",
       "      <td>6.0</td>\n",
       "      <td>14.0</td>\n",
       "      <td>15200.0</td>\n",
       "    </tr>\n",
       "    <tr>\n",
       "      <th>2</th>\n",
       "      <td>P00087842</td>\n",
       "      <td>1</td>\n",
       "      <td>1</td>\n",
       "      <td>10</td>\n",
       "      <td>A</td>\n",
       "      <td>2</td>\n",
       "      <td>0</td>\n",
       "      <td>12</td>\n",
       "      <td>NaN</td>\n",
       "      <td>NaN</td>\n",
       "      <td>1422.0</td>\n",
       "    </tr>\n",
       "    <tr>\n",
       "      <th>3</th>\n",
       "      <td>P00085442</td>\n",
       "      <td>1</td>\n",
       "      <td>1</td>\n",
       "      <td>10</td>\n",
       "      <td>A</td>\n",
       "      <td>2</td>\n",
       "      <td>0</td>\n",
       "      <td>12</td>\n",
       "      <td>14.0</td>\n",
       "      <td>NaN</td>\n",
       "      <td>1057.0</td>\n",
       "    </tr>\n",
       "    <tr>\n",
       "      <th>4</th>\n",
       "      <td>P00285442</td>\n",
       "      <td>0</td>\n",
       "      <td>7</td>\n",
       "      <td>16</td>\n",
       "      <td>C</td>\n",
       "      <td>4+</td>\n",
       "      <td>0</td>\n",
       "      <td>8</td>\n",
       "      <td>NaN</td>\n",
       "      <td>NaN</td>\n",
       "      <td>7969.0</td>\n",
       "    </tr>\n",
       "  </tbody>\n",
       "</table>\n",
       "</div>"
      ],
      "text/plain": [
       "  Product_ID  Gender  Age  Occupation City_Category  \\\n",
       "0  P00069042       1    1          10             A   \n",
       "1  P00248942       1    1          10             A   \n",
       "2  P00087842       1    1          10             A   \n",
       "3  P00085442       1    1          10             A   \n",
       "4  P00285442       0    7          16             C   \n",
       "\n",
       "  Stay_In_Current_City_Years  Marital_Status  Product_Category_1  \\\n",
       "0                          2               0                   3   \n",
       "1                          2               0                   1   \n",
       "2                          2               0                  12   \n",
       "3                          2               0                  12   \n",
       "4                         4+               0                   8   \n",
       "\n",
       "   Product_Category_2  Product_Category_3  Purchase  \n",
       "0                 NaN                 NaN    8370.0  \n",
       "1                 6.0                14.0   15200.0  \n",
       "2                 NaN                 NaN    1422.0  \n",
       "3                14.0                 NaN    1057.0  \n",
       "4                 NaN                 NaN    7969.0  "
      ]
     },
     "execution_count": 16,
     "metadata": {},
     "output_type": "execute_result"
    }
   ],
   "source": [
    "new_df.head()"
   ]
  },
  {
   "cell_type": "code",
   "execution_count": 17,
   "id": "888602ff",
   "metadata": {
    "_cell_guid": "a57b16b2-6cec-4ab6-9ed6-8f5f1ed46760",
    "_uuid": "119bc6de-bf12-4de5-a396-537b05624421",
    "collapsed": false,
    "execution": {
     "iopub.execute_input": "2022-06-22T11:02:34.274278Z",
     "iopub.status.busy": "2022-06-22T11:02:34.273688Z",
     "iopub.status.idle": "2022-06-22T11:02:34.280093Z",
     "shell.execute_reply": "2022-06-22T11:02:34.279161Z"
    },
    "jupyter": {
     "outputs_hidden": false
    },
    "papermill": {
     "duration": 0.031696,
     "end_time": "2022-06-22T11:02:34.281932",
     "exception": false,
     "start_time": "2022-06-22T11:02:34.250236",
     "status": "completed"
    },
    "tags": []
   },
   "outputs": [
    {
     "data": {
      "text/plain": [
       "\"\\n# Import label encoder\\nfrom sklearn import preprocessing\\n  \\n# label_encoder object knows how to understand word labels.\\nlabel_encoder = preprocessing.LabelEncoder()\\n  \\n# Encode labels in column 'species'.\\ndf['Age']= label_encoder.fit_transform(df['Age'])\\n  \\ndf['Age'].unique()\""
      ]
     },
     "execution_count": 17,
     "metadata": {},
     "output_type": "execute_result"
    }
   ],
   "source": [
    "'''\n",
    "# Import label encoder\n",
    "from sklearn import preprocessing\n",
    "  \n",
    "# label_encoder object knows how to understand word labels.\n",
    "label_encoder = preprocessing.LabelEncoder()\n",
    "  \n",
    "# Encode labels in column 'species'.\n",
    "df['Age']= label_encoder.fit_transform(df['Age'])\n",
    "  \n",
    "df['Age'].unique()'''\n",
    "#For test data we have to do transform"
   ]
  },
  {
   "cell_type": "code",
   "execution_count": 18,
   "id": "bbd0b87e",
   "metadata": {
    "_cell_guid": "8e0891e4-cfec-4158-bcb3-109c37584958",
    "_uuid": "345a9ba5-888c-453e-8d70-6fab73c93965",
    "collapsed": false,
    "execution": {
     "iopub.execute_input": "2022-06-22T11:02:34.329120Z",
     "iopub.status.busy": "2022-06-22T11:02:34.328401Z",
     "iopub.status.idle": "2022-06-22T11:02:34.391142Z",
     "shell.execute_reply": "2022-06-22T11:02:34.390167Z"
    },
    "jupyter": {
     "outputs_hidden": false
    },
    "papermill": {
     "duration": 0.088626,
     "end_time": "2022-06-22T11:02:34.393008",
     "exception": false,
     "start_time": "2022-06-22T11:02:34.304382",
     "status": "completed"
    },
    "tags": []
   },
   "outputs": [
    {
     "data": {
      "text/plain": [
       "array(['A', 'C', 'B'], dtype=object)"
      ]
     },
     "execution_count": 18,
     "metadata": {},
     "output_type": "execute_result"
    }
   ],
   "source": [
    "new_df.\tCity_Category.unique()"
   ]
  },
  {
   "cell_type": "code",
   "execution_count": 19,
   "id": "4d13c728",
   "metadata": {
    "_cell_guid": "8dc11048-2e09-4d6c-b81b-7a8358a510b1",
    "_uuid": "30d14f26-c0fb-4624-be5f-68ddc023c0d2",
    "collapsed": false,
    "execution": {
     "iopub.execute_input": "2022-06-22T11:02:34.439959Z",
     "iopub.status.busy": "2022-06-22T11:02:34.439534Z",
     "iopub.status.idle": "2022-06-22T11:02:34.530521Z",
     "shell.execute_reply": "2022-06-22T11:02:34.529372Z"
    },
    "jupyter": {
     "outputs_hidden": false
    },
    "papermill": {
     "duration": 0.117618,
     "end_time": "2022-06-22T11:02:34.532951",
     "exception": false,
     "start_time": "2022-06-22T11:02:34.415333",
     "status": "completed"
    },
    "tags": []
   },
   "outputs": [],
   "source": [
    "#fixing the categorucal feature city category\n",
    "new_df_city = pd.get_dummies(new_df['City_Category'],drop_first=True)"
   ]
  },
  {
   "cell_type": "code",
   "execution_count": 20,
   "id": "df8dd075",
   "metadata": {
    "_cell_guid": "54c11048-c7b0-4a37-896e-9d078c30e525",
    "_uuid": "4af9ba9f-8f72-4ecb-acdf-398afb15e3be",
    "collapsed": false,
    "execution": {
     "iopub.execute_input": "2022-06-22T11:02:34.580128Z",
     "iopub.status.busy": "2022-06-22T11:02:34.579631Z",
     "iopub.status.idle": "2022-06-22T11:02:34.589651Z",
     "shell.execute_reply": "2022-06-22T11:02:34.588470Z"
    },
    "jupyter": {
     "outputs_hidden": false
    },
    "papermill": {
     "duration": 0.036243,
     "end_time": "2022-06-22T11:02:34.591918",
     "exception": false,
     "start_time": "2022-06-22T11:02:34.555675",
     "status": "completed"
    },
    "tags": []
   },
   "outputs": [
    {
     "data": {
      "text/html": [
       "<div>\n",
       "<style scoped>\n",
       "    .dataframe tbody tr th:only-of-type {\n",
       "        vertical-align: middle;\n",
       "    }\n",
       "\n",
       "    .dataframe tbody tr th {\n",
       "        vertical-align: top;\n",
       "    }\n",
       "\n",
       "    .dataframe thead th {\n",
       "        text-align: right;\n",
       "    }\n",
       "</style>\n",
       "<table border=\"1\" class=\"dataframe\">\n",
       "  <thead>\n",
       "    <tr style=\"text-align: right;\">\n",
       "      <th></th>\n",
       "      <th>B</th>\n",
       "      <th>C</th>\n",
       "    </tr>\n",
       "  </thead>\n",
       "  <tbody>\n",
       "    <tr>\n",
       "      <th>0</th>\n",
       "      <td>0</td>\n",
       "      <td>0</td>\n",
       "    </tr>\n",
       "    <tr>\n",
       "      <th>1</th>\n",
       "      <td>0</td>\n",
       "      <td>0</td>\n",
       "    </tr>\n",
       "    <tr>\n",
       "      <th>2</th>\n",
       "      <td>0</td>\n",
       "      <td>0</td>\n",
       "    </tr>\n",
       "    <tr>\n",
       "      <th>3</th>\n",
       "      <td>0</td>\n",
       "      <td>0</td>\n",
       "    </tr>\n",
       "    <tr>\n",
       "      <th>4</th>\n",
       "      <td>0</td>\n",
       "      <td>1</td>\n",
       "    </tr>\n",
       "  </tbody>\n",
       "</table>\n",
       "</div>"
      ],
      "text/plain": [
       "   B  C\n",
       "0  0  0\n",
       "1  0  0\n",
       "2  0  0\n",
       "3  0  0\n",
       "4  0  1"
      ]
     },
     "execution_count": 20,
     "metadata": {},
     "output_type": "execute_result"
    }
   ],
   "source": [
    "new_df_city.head()"
   ]
  },
  {
   "cell_type": "code",
   "execution_count": 21,
   "id": "46b907af",
   "metadata": {
    "_cell_guid": "bd9b3b3d-abd0-495d-b541-79063786df80",
    "_uuid": "2e653bb2-c939-4573-a897-82632e3eb0e1",
    "collapsed": false,
    "execution": {
     "iopub.execute_input": "2022-06-22T11:02:34.639599Z",
     "iopub.status.busy": "2022-06-22T11:02:34.639134Z",
     "iopub.status.idle": "2022-06-22T11:02:34.707287Z",
     "shell.execute_reply": "2022-06-22T11:02:34.706188Z"
    },
    "jupyter": {
     "outputs_hidden": false
    },
    "papermill": {
     "duration": 0.095445,
     "end_time": "2022-06-22T11:02:34.710052",
     "exception": false,
     "start_time": "2022-06-22T11:02:34.614607",
     "status": "completed"
    },
    "tags": []
   },
   "outputs": [],
   "source": [
    "#combining the data sets\n",
    "new_df = pd.concat([new_df,new_df_city],axis=1)"
   ]
  },
  {
   "cell_type": "code",
   "execution_count": 22,
   "id": "3aeb1608",
   "metadata": {
    "_cell_guid": "3d0f57ab-ade7-4f46-8cee-7d196c4dff9d",
    "_uuid": "92d445a3-a9e2-4148-85e1-b9a4db9a166f",
    "collapsed": false,
    "execution": {
     "iopub.execute_input": "2022-06-22T11:02:34.759408Z",
     "iopub.status.busy": "2022-06-22T11:02:34.758779Z",
     "iopub.status.idle": "2022-06-22T11:02:34.774926Z",
     "shell.execute_reply": "2022-06-22T11:02:34.774188Z"
    },
    "jupyter": {
     "outputs_hidden": false
    },
    "papermill": {
     "duration": 0.043334,
     "end_time": "2022-06-22T11:02:34.776906",
     "exception": false,
     "start_time": "2022-06-22T11:02:34.733572",
     "status": "completed"
    },
    "tags": []
   },
   "outputs": [
    {
     "data": {
      "text/html": [
       "<div>\n",
       "<style scoped>\n",
       "    .dataframe tbody tr th:only-of-type {\n",
       "        vertical-align: middle;\n",
       "    }\n",
       "\n",
       "    .dataframe tbody tr th {\n",
       "        vertical-align: top;\n",
       "    }\n",
       "\n",
       "    .dataframe thead th {\n",
       "        text-align: right;\n",
       "    }\n",
       "</style>\n",
       "<table border=\"1\" class=\"dataframe\">\n",
       "  <thead>\n",
       "    <tr style=\"text-align: right;\">\n",
       "      <th></th>\n",
       "      <th>Product_ID</th>\n",
       "      <th>Gender</th>\n",
       "      <th>Age</th>\n",
       "      <th>Occupation</th>\n",
       "      <th>City_Category</th>\n",
       "      <th>Stay_In_Current_City_Years</th>\n",
       "      <th>Marital_Status</th>\n",
       "      <th>Product_Category_1</th>\n",
       "      <th>Product_Category_2</th>\n",
       "      <th>Product_Category_3</th>\n",
       "      <th>Purchase</th>\n",
       "      <th>B</th>\n",
       "      <th>C</th>\n",
       "    </tr>\n",
       "  </thead>\n",
       "  <tbody>\n",
       "    <tr>\n",
       "      <th>0</th>\n",
       "      <td>P00069042</td>\n",
       "      <td>1</td>\n",
       "      <td>1</td>\n",
       "      <td>10</td>\n",
       "      <td>A</td>\n",
       "      <td>2</td>\n",
       "      <td>0</td>\n",
       "      <td>3</td>\n",
       "      <td>NaN</td>\n",
       "      <td>NaN</td>\n",
       "      <td>8370.0</td>\n",
       "      <td>0</td>\n",
       "      <td>0</td>\n",
       "    </tr>\n",
       "    <tr>\n",
       "      <th>1</th>\n",
       "      <td>P00248942</td>\n",
       "      <td>1</td>\n",
       "      <td>1</td>\n",
       "      <td>10</td>\n",
       "      <td>A</td>\n",
       "      <td>2</td>\n",
       "      <td>0</td>\n",
       "      <td>1</td>\n",
       "      <td>6.0</td>\n",
       "      <td>14.0</td>\n",
       "      <td>15200.0</td>\n",
       "      <td>0</td>\n",
       "      <td>0</td>\n",
       "    </tr>\n",
       "    <tr>\n",
       "      <th>2</th>\n",
       "      <td>P00087842</td>\n",
       "      <td>1</td>\n",
       "      <td>1</td>\n",
       "      <td>10</td>\n",
       "      <td>A</td>\n",
       "      <td>2</td>\n",
       "      <td>0</td>\n",
       "      <td>12</td>\n",
       "      <td>NaN</td>\n",
       "      <td>NaN</td>\n",
       "      <td>1422.0</td>\n",
       "      <td>0</td>\n",
       "      <td>0</td>\n",
       "    </tr>\n",
       "    <tr>\n",
       "      <th>3</th>\n",
       "      <td>P00085442</td>\n",
       "      <td>1</td>\n",
       "      <td>1</td>\n",
       "      <td>10</td>\n",
       "      <td>A</td>\n",
       "      <td>2</td>\n",
       "      <td>0</td>\n",
       "      <td>12</td>\n",
       "      <td>14.0</td>\n",
       "      <td>NaN</td>\n",
       "      <td>1057.0</td>\n",
       "      <td>0</td>\n",
       "      <td>0</td>\n",
       "    </tr>\n",
       "    <tr>\n",
       "      <th>4</th>\n",
       "      <td>P00285442</td>\n",
       "      <td>0</td>\n",
       "      <td>7</td>\n",
       "      <td>16</td>\n",
       "      <td>C</td>\n",
       "      <td>4+</td>\n",
       "      <td>0</td>\n",
       "      <td>8</td>\n",
       "      <td>NaN</td>\n",
       "      <td>NaN</td>\n",
       "      <td>7969.0</td>\n",
       "      <td>0</td>\n",
       "      <td>1</td>\n",
       "    </tr>\n",
       "  </tbody>\n",
       "</table>\n",
       "</div>"
      ],
      "text/plain": [
       "  Product_ID  Gender  Age  Occupation City_Category  \\\n",
       "0  P00069042       1    1          10             A   \n",
       "1  P00248942       1    1          10             A   \n",
       "2  P00087842       1    1          10             A   \n",
       "3  P00085442       1    1          10             A   \n",
       "4  P00285442       0    7          16             C   \n",
       "\n",
       "  Stay_In_Current_City_Years  Marital_Status  Product_Category_1  \\\n",
       "0                          2               0                   3   \n",
       "1                          2               0                   1   \n",
       "2                          2               0                  12   \n",
       "3                          2               0                  12   \n",
       "4                         4+               0                   8   \n",
       "\n",
       "   Product_Category_2  Product_Category_3  Purchase  B  C  \n",
       "0                 NaN                 NaN    8370.0  0  0  \n",
       "1                 6.0                14.0   15200.0  0  0  \n",
       "2                 NaN                 NaN    1422.0  0  0  \n",
       "3                14.0                 NaN    1057.0  0  0  \n",
       "4                 NaN                 NaN    7969.0  0  1  "
      ]
     },
     "execution_count": 22,
     "metadata": {},
     "output_type": "execute_result"
    }
   ],
   "source": [
    "new_df.head()"
   ]
  },
  {
   "cell_type": "code",
   "execution_count": 23,
   "id": "a30cc522",
   "metadata": {
    "_cell_guid": "50bc4157-1164-4ce4-974a-ef1cef85ce9b",
    "_uuid": "60ba1830-7db3-4b7e-a08d-c92f71960bd3",
    "collapsed": false,
    "execution": {
     "iopub.execute_input": "2022-06-22T11:02:34.826594Z",
     "iopub.status.busy": "2022-06-22T11:02:34.825659Z",
     "iopub.status.idle": "2022-06-22T11:02:34.952050Z",
     "shell.execute_reply": "2022-06-22T11:02:34.951288Z"
    },
    "jupyter": {
     "outputs_hidden": false
    },
    "papermill": {
     "duration": 0.154145,
     "end_time": "2022-06-22T11:02:34.954707",
     "exception": false,
     "start_time": "2022-06-22T11:02:34.800562",
     "status": "completed"
    },
    "tags": []
   },
   "outputs": [],
   "source": [
    "#dropping the city categoty\n",
    "new_df.drop('City_Category',axis=1,inplace=True)"
   ]
  },
  {
   "cell_type": "code",
   "execution_count": 24,
   "id": "906db7ff",
   "metadata": {
    "_cell_guid": "2b0cc7b1-490e-49aa-922e-f2c6af96eade",
    "_uuid": "1efefbe4-4a6b-4d50-916d-ddc9e440cc67",
    "collapsed": false,
    "execution": {
     "iopub.execute_input": "2022-06-22T11:02:35.005232Z",
     "iopub.status.busy": "2022-06-22T11:02:35.003812Z",
     "iopub.status.idle": "2022-06-22T11:02:35.022165Z",
     "shell.execute_reply": "2022-06-22T11:02:35.021161Z"
    },
    "jupyter": {
     "outputs_hidden": false
    },
    "papermill": {
     "duration": 0.045493,
     "end_time": "2022-06-22T11:02:35.024012",
     "exception": false,
     "start_time": "2022-06-22T11:02:34.978519",
     "status": "completed"
    },
    "tags": []
   },
   "outputs": [
    {
     "data": {
      "text/html": [
       "<div>\n",
       "<style scoped>\n",
       "    .dataframe tbody tr th:only-of-type {\n",
       "        vertical-align: middle;\n",
       "    }\n",
       "\n",
       "    .dataframe tbody tr th {\n",
       "        vertical-align: top;\n",
       "    }\n",
       "\n",
       "    .dataframe thead th {\n",
       "        text-align: right;\n",
       "    }\n",
       "</style>\n",
       "<table border=\"1\" class=\"dataframe\">\n",
       "  <thead>\n",
       "    <tr style=\"text-align: right;\">\n",
       "      <th></th>\n",
       "      <th>Product_ID</th>\n",
       "      <th>Gender</th>\n",
       "      <th>Age</th>\n",
       "      <th>Occupation</th>\n",
       "      <th>Stay_In_Current_City_Years</th>\n",
       "      <th>Marital_Status</th>\n",
       "      <th>Product_Category_1</th>\n",
       "      <th>Product_Category_2</th>\n",
       "      <th>Product_Category_3</th>\n",
       "      <th>Purchase</th>\n",
       "      <th>B</th>\n",
       "      <th>C</th>\n",
       "    </tr>\n",
       "  </thead>\n",
       "  <tbody>\n",
       "    <tr>\n",
       "      <th>0</th>\n",
       "      <td>P00069042</td>\n",
       "      <td>1</td>\n",
       "      <td>1</td>\n",
       "      <td>10</td>\n",
       "      <td>2</td>\n",
       "      <td>0</td>\n",
       "      <td>3</td>\n",
       "      <td>NaN</td>\n",
       "      <td>NaN</td>\n",
       "      <td>8370.0</td>\n",
       "      <td>0</td>\n",
       "      <td>0</td>\n",
       "    </tr>\n",
       "    <tr>\n",
       "      <th>1</th>\n",
       "      <td>P00248942</td>\n",
       "      <td>1</td>\n",
       "      <td>1</td>\n",
       "      <td>10</td>\n",
       "      <td>2</td>\n",
       "      <td>0</td>\n",
       "      <td>1</td>\n",
       "      <td>6.0</td>\n",
       "      <td>14.0</td>\n",
       "      <td>15200.0</td>\n",
       "      <td>0</td>\n",
       "      <td>0</td>\n",
       "    </tr>\n",
       "    <tr>\n",
       "      <th>2</th>\n",
       "      <td>P00087842</td>\n",
       "      <td>1</td>\n",
       "      <td>1</td>\n",
       "      <td>10</td>\n",
       "      <td>2</td>\n",
       "      <td>0</td>\n",
       "      <td>12</td>\n",
       "      <td>NaN</td>\n",
       "      <td>NaN</td>\n",
       "      <td>1422.0</td>\n",
       "      <td>0</td>\n",
       "      <td>0</td>\n",
       "    </tr>\n",
       "    <tr>\n",
       "      <th>3</th>\n",
       "      <td>P00085442</td>\n",
       "      <td>1</td>\n",
       "      <td>1</td>\n",
       "      <td>10</td>\n",
       "      <td>2</td>\n",
       "      <td>0</td>\n",
       "      <td>12</td>\n",
       "      <td>14.0</td>\n",
       "      <td>NaN</td>\n",
       "      <td>1057.0</td>\n",
       "      <td>0</td>\n",
       "      <td>0</td>\n",
       "    </tr>\n",
       "    <tr>\n",
       "      <th>4</th>\n",
       "      <td>P00285442</td>\n",
       "      <td>0</td>\n",
       "      <td>7</td>\n",
       "      <td>16</td>\n",
       "      <td>4+</td>\n",
       "      <td>0</td>\n",
       "      <td>8</td>\n",
       "      <td>NaN</td>\n",
       "      <td>NaN</td>\n",
       "      <td>7969.0</td>\n",
       "      <td>0</td>\n",
       "      <td>1</td>\n",
       "    </tr>\n",
       "  </tbody>\n",
       "</table>\n",
       "</div>"
      ],
      "text/plain": [
       "  Product_ID  Gender  Age  Occupation Stay_In_Current_City_Years  \\\n",
       "0  P00069042       1    1          10                          2   \n",
       "1  P00248942       1    1          10                          2   \n",
       "2  P00087842       1    1          10                          2   \n",
       "3  P00085442       1    1          10                          2   \n",
       "4  P00285442       0    7          16                         4+   \n",
       "\n",
       "   Marital_Status  Product_Category_1  Product_Category_2  Product_Category_3  \\\n",
       "0               0                   3                 NaN                 NaN   \n",
       "1               0                   1                 6.0                14.0   \n",
       "2               0                  12                 NaN                 NaN   \n",
       "3               0                  12                14.0                 NaN   \n",
       "4               0                   8                 NaN                 NaN   \n",
       "\n",
       "   Purchase  B  C  \n",
       "0    8370.0  0  0  \n",
       "1   15200.0  0  0  \n",
       "2    1422.0  0  0  \n",
       "3    1057.0  0  0  \n",
       "4    7969.0  0  1  "
      ]
     },
     "execution_count": 24,
     "metadata": {},
     "output_type": "execute_result"
    }
   ],
   "source": [
    "new_df.head()"
   ]
  },
  {
   "cell_type": "code",
   "execution_count": 25,
   "id": "871d4261",
   "metadata": {
    "_cell_guid": "3622c2ae-6d6c-43ae-976e-2306743bf893",
    "_uuid": "5b06e2e8-7a8e-44e5-b83c-a3e7e4e40a1a",
    "collapsed": false,
    "execution": {
     "iopub.execute_input": "2022-06-22T11:02:35.074124Z",
     "iopub.status.busy": "2022-06-22T11:02:35.073691Z",
     "iopub.status.idle": "2022-06-22T11:02:35.263397Z",
     "shell.execute_reply": "2022-06-22T11:02:35.262145Z"
    },
    "jupyter": {
     "outputs_hidden": false
    },
    "papermill": {
     "duration": 0.217816,
     "end_time": "2022-06-22T11:02:35.265710",
     "exception": false,
     "start_time": "2022-06-22T11:02:35.047894",
     "status": "completed"
    },
    "tags": []
   },
   "outputs": [
    {
     "data": {
      "text/plain": [
       "Product_ID                         0\n",
       "Gender                             0\n",
       "Age                                0\n",
       "Occupation                         0\n",
       "Stay_In_Current_City_Years         0\n",
       "Marital_Status                     0\n",
       "Product_Category_1                 0\n",
       "Product_Category_2            245982\n",
       "Product_Category_3            545809\n",
       "Purchase                      233599\n",
       "B                                  0\n",
       "C                                  0\n",
       "dtype: int64"
      ]
     },
     "execution_count": 25,
     "metadata": {},
     "output_type": "execute_result"
    }
   ],
   "source": [
    "#for missing values\n",
    "new_df.isnull().sum()"
   ]
  },
  {
   "cell_type": "code",
   "execution_count": 26,
   "id": "e72cd168",
   "metadata": {
    "_cell_guid": "4d7a66fa-fda6-472d-944a-95c68a589b3d",
    "_uuid": "39e675ae-f0f8-43ab-a626-335537735cf1",
    "collapsed": false,
    "execution": {
     "iopub.execute_input": "2022-06-22T11:02:35.316105Z",
     "iopub.status.busy": "2022-06-22T11:02:35.314900Z",
     "iopub.status.idle": "2022-06-22T11:02:35.321487Z",
     "shell.execute_reply": "2022-06-22T11:02:35.320454Z"
    },
    "jupyter": {
     "outputs_hidden": false
    },
    "papermill": {
     "duration": 0.034064,
     "end_time": "2022-06-22T11:02:35.323555",
     "exception": false,
     "start_time": "2022-06-22T11:02:35.289491",
     "status": "completed"
    },
    "tags": []
   },
   "outputs": [
    {
     "data": {
      "text/plain": [
       "Index(['Product_ID', 'Gender', 'Age', 'Occupation',\n",
       "       'Stay_In_Current_City_Years', 'Marital_Status', 'Product_Category_1',\n",
       "       'Product_Category_2', 'Product_Category_3', 'Purchase', 'B', 'C'],\n",
       "      dtype='object')"
      ]
     },
     "execution_count": 26,
     "metadata": {},
     "output_type": "execute_result"
    }
   ],
   "source": [
    "##Focus on replacing the missing values\n",
    "new_df.columns"
   ]
  },
  {
   "cell_type": "code",
   "execution_count": 27,
   "id": "7159d881",
   "metadata": {
    "_cell_guid": "07c19742-cb71-4075-9512-05a2c3d5fb1a",
    "_uuid": "6ea8383d-6dc9-4375-bfb6-0d14145af58a",
    "collapsed": false,
    "execution": {
     "iopub.execute_input": "2022-06-22T11:02:35.374238Z",
     "iopub.status.busy": "2022-06-22T11:02:35.373615Z",
     "iopub.status.idle": "2022-06-22T11:02:35.392801Z",
     "shell.execute_reply": "2022-06-22T11:02:35.391850Z"
    },
    "jupyter": {
     "outputs_hidden": false
    },
    "papermill": {
     "duration": 0.046899,
     "end_time": "2022-06-22T11:02:35.394874",
     "exception": false,
     "start_time": "2022-06-22T11:02:35.347975",
     "status": "completed"
    },
    "tags": []
   },
   "outputs": [
    {
     "data": {
      "text/plain": [
       "array([nan,  6., 14.,  2.,  8., 15., 16., 11.,  5.,  3.,  4., 12.,  9.,\n",
       "       10., 17., 13.,  7., 18.])"
      ]
     },
     "execution_count": 27,
     "metadata": {},
     "output_type": "execute_result"
    }
   ],
   "source": [
    "new_df.Product_Category_2.unique()"
   ]
  },
  {
   "cell_type": "code",
   "execution_count": 28,
   "id": "c5a33d88",
   "metadata": {
    "_cell_guid": "632ad88b-70fd-4d2f-973f-718846beeb4e",
    "_uuid": "96199d84-8c50-413d-9be4-877c50af8cb6",
    "collapsed": false,
    "execution": {
     "iopub.execute_input": "2022-06-22T11:02:35.444675Z",
     "iopub.status.busy": "2022-06-22T11:02:35.444271Z",
     "iopub.status.idle": "2022-06-22T11:02:35.463581Z",
     "shell.execute_reply": "2022-06-22T11:02:35.462571Z"
    },
    "jupyter": {
     "outputs_hidden": false
    },
    "papermill": {
     "duration": 0.047116,
     "end_time": "2022-06-22T11:02:35.465981",
     "exception": false,
     "start_time": "2022-06-22T11:02:35.418865",
     "status": "completed"
    },
    "tags": []
   },
   "outputs": [
    {
     "data": {
      "text/plain": [
       "8.0     91317\n",
       "14.0    78834\n",
       "2.0     70498\n",
       "16.0    61687\n",
       "15.0    54114\n",
       "5.0     37165\n",
       "4.0     36705\n",
       "6.0     23575\n",
       "11.0    20230\n",
       "17.0    19104\n",
       "13.0    15054\n",
       "9.0      8177\n",
       "12.0     7801\n",
       "10.0     4420\n",
       "3.0      4123\n",
       "18.0     4027\n",
       "7.0       854\n",
       "Name: Product_Category_2, dtype: int64"
      ]
     },
     "execution_count": 28,
     "metadata": {},
     "output_type": "execute_result"
    }
   ],
   "source": [
    "new_df.Product_Category_2.value_counts()"
   ]
  },
  {
   "cell_type": "code",
   "execution_count": 29,
   "id": "a8aa44cf",
   "metadata": {
    "_cell_guid": "434488d9-02db-4739-8116-f20eca596fed",
    "_uuid": "326553cf-db51-4dff-a32c-528b9374f01e",
    "collapsed": false,
    "execution": {
     "iopub.execute_input": "2022-06-22T11:02:35.516864Z",
     "iopub.status.busy": "2022-06-22T11:02:35.516443Z",
     "iopub.status.idle": "2022-06-22T11:02:35.532708Z",
     "shell.execute_reply": "2022-06-22T11:02:35.531733Z"
    },
    "jupyter": {
     "outputs_hidden": false
    },
    "papermill": {
     "duration": 0.044673,
     "end_time": "2022-06-22T11:02:35.535647",
     "exception": false,
     "start_time": "2022-06-22T11:02:35.490974",
     "status": "completed"
    },
    "tags": []
   },
   "outputs": [
    {
     "data": {
      "text/plain": [
       "8.0"
      ]
     },
     "execution_count": 29,
     "metadata": {},
     "output_type": "execute_result"
    }
   ],
   "source": [
    "new_df['Product_Category_2'].mode()[0]"
   ]
  },
  {
   "cell_type": "code",
   "execution_count": 30,
   "id": "19eaec71",
   "metadata": {
    "_cell_guid": "cd25c17e-dd25-444a-a5e4-fa8c13057bdb",
    "_uuid": "272bb75a-2616-4ef4-a805-dff38a927fe0",
    "collapsed": false,
    "execution": {
     "iopub.execute_input": "2022-06-22T11:02:35.586561Z",
     "iopub.status.busy": "2022-06-22T11:02:35.586144Z",
     "iopub.status.idle": "2022-06-22T11:02:35.609466Z",
     "shell.execute_reply": "2022-06-22T11:02:35.608379Z"
    },
    "jupyter": {
     "outputs_hidden": false
    },
    "papermill": {
     "duration": 0.051781,
     "end_time": "2022-06-22T11:02:35.612040",
     "exception": false,
     "start_time": "2022-06-22T11:02:35.560259",
     "status": "completed"
    },
    "tags": []
   },
   "outputs": [],
   "source": [
    "##Replacing the missing value with mode(for categorical and discrete) for'Product_Category_2'\n",
    "new_df['Product_Category_2'] = new_df['Product_Category_2'].fillna(new_df['Product_Category_2'].mode()[0])"
   ]
  },
  {
   "cell_type": "code",
   "execution_count": 31,
   "id": "089a0d5d",
   "metadata": {
    "_cell_guid": "cd9374fc-a1e3-431d-bd58-c1bdddff1827",
    "_uuid": "500f1d3f-28aa-4403-a9e9-deb260376f02",
    "collapsed": false,
    "execution": {
     "iopub.execute_input": "2022-06-22T11:02:35.662811Z",
     "iopub.status.busy": "2022-06-22T11:02:35.662409Z",
     "iopub.status.idle": "2022-06-22T11:02:35.670655Z",
     "shell.execute_reply": "2022-06-22T11:02:35.669634Z"
    },
    "jupyter": {
     "outputs_hidden": false
    },
    "papermill": {
     "duration": 0.03613,
     "end_time": "2022-06-22T11:02:35.672622",
     "exception": false,
     "start_time": "2022-06-22T11:02:35.636492",
     "status": "completed"
    },
    "tags": []
   },
   "outputs": [
    {
     "data": {
      "text/plain": [
       "0"
      ]
     },
     "execution_count": 31,
     "metadata": {},
     "output_type": "execute_result"
    }
   ],
   "source": [
    "new_df['Product_Category_2'].isnull().sum()"
   ]
  },
  {
   "cell_type": "code",
   "execution_count": 32,
   "id": "797ca739",
   "metadata": {
    "_cell_guid": "99bd5707-9e56-4f6a-bc0a-bc2f2c1f6a0f",
    "_uuid": "bf8ee665-42ac-465d-bace-c70a39e3df83",
    "collapsed": false,
    "execution": {
     "iopub.execute_input": "2022-06-22T11:02:35.723602Z",
     "iopub.status.busy": "2022-06-22T11:02:35.722969Z",
     "iopub.status.idle": "2022-06-22T11:02:35.737955Z",
     "shell.execute_reply": "2022-06-22T11:02:35.737306Z"
    },
    "jupyter": {
     "outputs_hidden": false
    },
    "papermill": {
     "duration": 0.043012,
     "end_time": "2022-06-22T11:02:35.739952",
     "exception": false,
     "start_time": "2022-06-22T11:02:35.696940",
     "status": "completed"
    },
    "tags": []
   },
   "outputs": [
    {
     "data": {
      "text/html": [
       "<div>\n",
       "<style scoped>\n",
       "    .dataframe tbody tr th:only-of-type {\n",
       "        vertical-align: middle;\n",
       "    }\n",
       "\n",
       "    .dataframe tbody tr th {\n",
       "        vertical-align: top;\n",
       "    }\n",
       "\n",
       "    .dataframe thead th {\n",
       "        text-align: right;\n",
       "    }\n",
       "</style>\n",
       "<table border=\"1\" class=\"dataframe\">\n",
       "  <thead>\n",
       "    <tr style=\"text-align: right;\">\n",
       "      <th></th>\n",
       "      <th>Product_ID</th>\n",
       "      <th>Gender</th>\n",
       "      <th>Age</th>\n",
       "      <th>Occupation</th>\n",
       "      <th>Stay_In_Current_City_Years</th>\n",
       "      <th>Marital_Status</th>\n",
       "      <th>Product_Category_1</th>\n",
       "      <th>Product_Category_2</th>\n",
       "      <th>Product_Category_3</th>\n",
       "      <th>Purchase</th>\n",
       "      <th>B</th>\n",
       "      <th>C</th>\n",
       "    </tr>\n",
       "  </thead>\n",
       "  <tbody>\n",
       "    <tr>\n",
       "      <th>0</th>\n",
       "      <td>P00069042</td>\n",
       "      <td>1</td>\n",
       "      <td>1</td>\n",
       "      <td>10</td>\n",
       "      <td>2</td>\n",
       "      <td>0</td>\n",
       "      <td>3</td>\n",
       "      <td>8.0</td>\n",
       "      <td>NaN</td>\n",
       "      <td>8370.0</td>\n",
       "      <td>0</td>\n",
       "      <td>0</td>\n",
       "    </tr>\n",
       "    <tr>\n",
       "      <th>1</th>\n",
       "      <td>P00248942</td>\n",
       "      <td>1</td>\n",
       "      <td>1</td>\n",
       "      <td>10</td>\n",
       "      <td>2</td>\n",
       "      <td>0</td>\n",
       "      <td>1</td>\n",
       "      <td>6.0</td>\n",
       "      <td>14.0</td>\n",
       "      <td>15200.0</td>\n",
       "      <td>0</td>\n",
       "      <td>0</td>\n",
       "    </tr>\n",
       "    <tr>\n",
       "      <th>2</th>\n",
       "      <td>P00087842</td>\n",
       "      <td>1</td>\n",
       "      <td>1</td>\n",
       "      <td>10</td>\n",
       "      <td>2</td>\n",
       "      <td>0</td>\n",
       "      <td>12</td>\n",
       "      <td>8.0</td>\n",
       "      <td>NaN</td>\n",
       "      <td>1422.0</td>\n",
       "      <td>0</td>\n",
       "      <td>0</td>\n",
       "    </tr>\n",
       "    <tr>\n",
       "      <th>3</th>\n",
       "      <td>P00085442</td>\n",
       "      <td>1</td>\n",
       "      <td>1</td>\n",
       "      <td>10</td>\n",
       "      <td>2</td>\n",
       "      <td>0</td>\n",
       "      <td>12</td>\n",
       "      <td>14.0</td>\n",
       "      <td>NaN</td>\n",
       "      <td>1057.0</td>\n",
       "      <td>0</td>\n",
       "      <td>0</td>\n",
       "    </tr>\n",
       "    <tr>\n",
       "      <th>4</th>\n",
       "      <td>P00285442</td>\n",
       "      <td>0</td>\n",
       "      <td>7</td>\n",
       "      <td>16</td>\n",
       "      <td>4+</td>\n",
       "      <td>0</td>\n",
       "      <td>8</td>\n",
       "      <td>8.0</td>\n",
       "      <td>NaN</td>\n",
       "      <td>7969.0</td>\n",
       "      <td>0</td>\n",
       "      <td>1</td>\n",
       "    </tr>\n",
       "  </tbody>\n",
       "</table>\n",
       "</div>"
      ],
      "text/plain": [
       "  Product_ID  Gender  Age  Occupation Stay_In_Current_City_Years  \\\n",
       "0  P00069042       1    1          10                          2   \n",
       "1  P00248942       1    1          10                          2   \n",
       "2  P00087842       1    1          10                          2   \n",
       "3  P00085442       1    1          10                          2   \n",
       "4  P00285442       0    7          16                         4+   \n",
       "\n",
       "   Marital_Status  Product_Category_1  Product_Category_2  Product_Category_3  \\\n",
       "0               0                   3                 8.0                 NaN   \n",
       "1               0                   1                 6.0                14.0   \n",
       "2               0                  12                 8.0                 NaN   \n",
       "3               0                  12                14.0                 NaN   \n",
       "4               0                   8                 8.0                 NaN   \n",
       "\n",
       "   Purchase  B  C  \n",
       "0    8370.0  0  0  \n",
       "1   15200.0  0  0  \n",
       "2    1422.0  0  0  \n",
       "3    1057.0  0  0  \n",
       "4    7969.0  0  1  "
      ]
     },
     "execution_count": 32,
     "metadata": {},
     "output_type": "execute_result"
    }
   ],
   "source": [
    "new_df.head()"
   ]
  },
  {
   "cell_type": "code",
   "execution_count": 33,
   "id": "e1d8d684",
   "metadata": {
    "_cell_guid": "16f8997b-7c44-45a9-ac32-d03e20293d59",
    "_uuid": "26a64639-d12b-4732-8e60-e020fb08c3c6",
    "collapsed": false,
    "execution": {
     "iopub.execute_input": "2022-06-22T11:02:35.791144Z",
     "iopub.status.busy": "2022-06-22T11:02:35.790729Z",
     "iopub.status.idle": "2022-06-22T11:02:35.805316Z",
     "shell.execute_reply": "2022-06-22T11:02:35.804396Z"
    },
    "jupyter": {
     "outputs_hidden": false
    },
    "papermill": {
     "duration": 0.043003,
     "end_time": "2022-06-22T11:02:35.807545",
     "exception": false,
     "start_time": "2022-06-22T11:02:35.764542",
     "status": "completed"
    },
    "tags": []
   },
   "outputs": [
    {
     "data": {
      "text/plain": [
       "array([nan, 14., 17.,  5.,  4., 16., 15.,  8.,  9., 13.,  6., 12.,  3.,\n",
       "       18., 11., 10.])"
      ]
     },
     "execution_count": 33,
     "metadata": {},
     "output_type": "execute_result"
    }
   ],
   "source": [
    "#replacing the missing values for 'Product_Category_3'\n",
    "new_df['Product_Category_3'].unique()"
   ]
  },
  {
   "cell_type": "code",
   "execution_count": 34,
   "id": "5ea9264a",
   "metadata": {
    "_cell_guid": "f82d97c3-7be9-4c0b-aa2b-fdefc92e746d",
    "_uuid": "78de2ba3-2fff-41e9-bf0f-6f833da60b79",
    "collapsed": false,
    "execution": {
     "iopub.execute_input": "2022-06-22T11:02:35.859897Z",
     "iopub.status.busy": "2022-06-22T11:02:35.859491Z",
     "iopub.status.idle": "2022-06-22T11:02:35.874649Z",
     "shell.execute_reply": "2022-06-22T11:02:35.873790Z"
    },
    "jupyter": {
     "outputs_hidden": false
    },
    "papermill": {
     "duration": 0.043309,
     "end_time": "2022-06-22T11:02:35.876614",
     "exception": false,
     "start_time": "2022-06-22T11:02:35.833305",
     "status": "completed"
    },
    "tags": []
   },
   "outputs": [
    {
     "data": {
      "text/plain": [
       "16.0    46469\n",
       "15.0    39968\n",
       "14.0    26283\n",
       "17.0    23818\n",
       "5.0     23799\n",
       "8.0     17861\n",
       "9.0     16532\n",
       "12.0    13115\n",
       "13.0     7849\n",
       "6.0      6888\n",
       "18.0     6621\n",
       "4.0      2691\n",
       "11.0     2585\n",
       "10.0     2501\n",
       "3.0       878\n",
       "Name: Product_Category_3, dtype: int64"
      ]
     },
     "execution_count": 34,
     "metadata": {},
     "output_type": "execute_result"
    }
   ],
   "source": [
    "new_df['Product_Category_3'].value_counts()"
   ]
  },
  {
   "cell_type": "code",
   "execution_count": 35,
   "id": "0d6bf369",
   "metadata": {
    "_cell_guid": "6573f7c8-2129-400a-ac8f-df631aba96cf",
    "_uuid": "6ef1c994-15c9-40da-bc53-7025894ccff9",
    "collapsed": false,
    "execution": {
     "iopub.execute_input": "2022-06-22T11:02:35.928556Z",
     "iopub.status.busy": "2022-06-22T11:02:35.928150Z",
     "iopub.status.idle": "2022-06-22T11:02:35.948860Z",
     "shell.execute_reply": "2022-06-22T11:02:35.947940Z"
    },
    "jupyter": {
     "outputs_hidden": false
    },
    "papermill": {
     "duration": 0.050031,
     "end_time": "2022-06-22T11:02:35.951509",
     "exception": false,
     "start_time": "2022-06-22T11:02:35.901478",
     "status": "completed"
    },
    "tags": []
   },
   "outputs": [],
   "source": [
    "##Replacing the missing value with mode(for categorical and discrete) for'Product_Category_3'\n",
    "new_df['Product_Category_3'] = new_df['Product_Category_3'].fillna(new_df['Product_Category_3'].mode()[0])"
   ]
  },
  {
   "cell_type": "code",
   "execution_count": 36,
   "id": "cd4c0626",
   "metadata": {
    "_cell_guid": "ec747568-5fcc-45fb-ab7d-f16957cb7a41",
    "_uuid": "2d084b61-5073-499e-a9bf-f528abb0b7c2",
    "collapsed": false,
    "execution": {
     "iopub.execute_input": "2022-06-22T11:02:36.004977Z",
     "iopub.status.busy": "2022-06-22T11:02:36.004547Z",
     "iopub.status.idle": "2022-06-22T11:02:36.013129Z",
     "shell.execute_reply": "2022-06-22T11:02:36.012244Z"
    },
    "jupyter": {
     "outputs_hidden": false
    },
    "papermill": {
     "duration": 0.037595,
     "end_time": "2022-06-22T11:02:36.015245",
     "exception": false,
     "start_time": "2022-06-22T11:02:35.977650",
     "status": "completed"
    },
    "tags": []
   },
   "outputs": [
    {
     "data": {
      "text/plain": [
       "0"
      ]
     },
     "execution_count": 36,
     "metadata": {},
     "output_type": "execute_result"
    }
   ],
   "source": [
    "new_df['Product_Category_3'].isnull().sum()"
   ]
  },
  {
   "cell_type": "code",
   "execution_count": 37,
   "id": "f117bf7e",
   "metadata": {
    "_cell_guid": "1ccd55b8-0a55-4b48-a957-9f305be2f64f",
    "_uuid": "1383bc95-eb0b-4cdd-93ae-3f9221299e33",
    "collapsed": false,
    "execution": {
     "iopub.execute_input": "2022-06-22T11:02:36.068378Z",
     "iopub.status.busy": "2022-06-22T11:02:36.067959Z",
     "iopub.status.idle": "2022-06-22T11:02:36.083828Z",
     "shell.execute_reply": "2022-06-22T11:02:36.083151Z"
    },
    "jupyter": {
     "outputs_hidden": false
    },
    "papermill": {
     "duration": 0.04463,
     "end_time": "2022-06-22T11:02:36.086039",
     "exception": false,
     "start_time": "2022-06-22T11:02:36.041409",
     "status": "completed"
    },
    "tags": []
   },
   "outputs": [
    {
     "data": {
      "text/html": [
       "<div>\n",
       "<style scoped>\n",
       "    .dataframe tbody tr th:only-of-type {\n",
       "        vertical-align: middle;\n",
       "    }\n",
       "\n",
       "    .dataframe tbody tr th {\n",
       "        vertical-align: top;\n",
       "    }\n",
       "\n",
       "    .dataframe thead th {\n",
       "        text-align: right;\n",
       "    }\n",
       "</style>\n",
       "<table border=\"1\" class=\"dataframe\">\n",
       "  <thead>\n",
       "    <tr style=\"text-align: right;\">\n",
       "      <th></th>\n",
       "      <th>Product_ID</th>\n",
       "      <th>Gender</th>\n",
       "      <th>Age</th>\n",
       "      <th>Occupation</th>\n",
       "      <th>Stay_In_Current_City_Years</th>\n",
       "      <th>Marital_Status</th>\n",
       "      <th>Product_Category_1</th>\n",
       "      <th>Product_Category_2</th>\n",
       "      <th>Product_Category_3</th>\n",
       "      <th>Purchase</th>\n",
       "      <th>B</th>\n",
       "      <th>C</th>\n",
       "    </tr>\n",
       "  </thead>\n",
       "  <tbody>\n",
       "    <tr>\n",
       "      <th>0</th>\n",
       "      <td>P00069042</td>\n",
       "      <td>1</td>\n",
       "      <td>1</td>\n",
       "      <td>10</td>\n",
       "      <td>2</td>\n",
       "      <td>0</td>\n",
       "      <td>3</td>\n",
       "      <td>8.0</td>\n",
       "      <td>16.0</td>\n",
       "      <td>8370.0</td>\n",
       "      <td>0</td>\n",
       "      <td>0</td>\n",
       "    </tr>\n",
       "    <tr>\n",
       "      <th>1</th>\n",
       "      <td>P00248942</td>\n",
       "      <td>1</td>\n",
       "      <td>1</td>\n",
       "      <td>10</td>\n",
       "      <td>2</td>\n",
       "      <td>0</td>\n",
       "      <td>1</td>\n",
       "      <td>6.0</td>\n",
       "      <td>14.0</td>\n",
       "      <td>15200.0</td>\n",
       "      <td>0</td>\n",
       "      <td>0</td>\n",
       "    </tr>\n",
       "    <tr>\n",
       "      <th>2</th>\n",
       "      <td>P00087842</td>\n",
       "      <td>1</td>\n",
       "      <td>1</td>\n",
       "      <td>10</td>\n",
       "      <td>2</td>\n",
       "      <td>0</td>\n",
       "      <td>12</td>\n",
       "      <td>8.0</td>\n",
       "      <td>16.0</td>\n",
       "      <td>1422.0</td>\n",
       "      <td>0</td>\n",
       "      <td>0</td>\n",
       "    </tr>\n",
       "    <tr>\n",
       "      <th>3</th>\n",
       "      <td>P00085442</td>\n",
       "      <td>1</td>\n",
       "      <td>1</td>\n",
       "      <td>10</td>\n",
       "      <td>2</td>\n",
       "      <td>0</td>\n",
       "      <td>12</td>\n",
       "      <td>14.0</td>\n",
       "      <td>16.0</td>\n",
       "      <td>1057.0</td>\n",
       "      <td>0</td>\n",
       "      <td>0</td>\n",
       "    </tr>\n",
       "    <tr>\n",
       "      <th>4</th>\n",
       "      <td>P00285442</td>\n",
       "      <td>0</td>\n",
       "      <td>7</td>\n",
       "      <td>16</td>\n",
       "      <td>4+</td>\n",
       "      <td>0</td>\n",
       "      <td>8</td>\n",
       "      <td>8.0</td>\n",
       "      <td>16.0</td>\n",
       "      <td>7969.0</td>\n",
       "      <td>0</td>\n",
       "      <td>1</td>\n",
       "    </tr>\n",
       "  </tbody>\n",
       "</table>\n",
       "</div>"
      ],
      "text/plain": [
       "  Product_ID  Gender  Age  Occupation Stay_In_Current_City_Years  \\\n",
       "0  P00069042       1    1          10                          2   \n",
       "1  P00248942       1    1          10                          2   \n",
       "2  P00087842       1    1          10                          2   \n",
       "3  P00085442       1    1          10                          2   \n",
       "4  P00285442       0    7          16                         4+   \n",
       "\n",
       "   Marital_Status  Product_Category_1  Product_Category_2  Product_Category_3  \\\n",
       "0               0                   3                 8.0                16.0   \n",
       "1               0                   1                 6.0                14.0   \n",
       "2               0                  12                 8.0                16.0   \n",
       "3               0                  12                14.0                16.0   \n",
       "4               0                   8                 8.0                16.0   \n",
       "\n",
       "   Purchase  B  C  \n",
       "0    8370.0  0  0  \n",
       "1   15200.0  0  0  \n",
       "2    1422.0  0  0  \n",
       "3    1057.0  0  0  \n",
       "4    7969.0  0  1  "
      ]
     },
     "execution_count": 37,
     "metadata": {},
     "output_type": "execute_result"
    }
   ],
   "source": [
    "new_df.head()"
   ]
  },
  {
   "cell_type": "code",
   "execution_count": 38,
   "id": "46bc5b4f",
   "metadata": {
    "_cell_guid": "056e1bd8-1ff4-415a-8a18-cde1d42fc48b",
    "_uuid": "ecb6513f-2e41-4cfa-963a-55fea4d2c063",
    "collapsed": false,
    "execution": {
     "iopub.execute_input": "2022-06-22T11:02:36.139066Z",
     "iopub.status.busy": "2022-06-22T11:02:36.138621Z",
     "iopub.status.idle": "2022-06-22T11:02:36.144873Z",
     "shell.execute_reply": "2022-06-22T11:02:36.144223Z"
    },
    "jupyter": {
     "outputs_hidden": false
    },
    "papermill": {
     "duration": 0.034785,
     "end_time": "2022-06-22T11:02:36.146742",
     "exception": false,
     "start_time": "2022-06-22T11:02:36.111957",
     "status": "completed"
    },
    "tags": []
   },
   "outputs": [
    {
     "data": {
      "text/plain": [
       "(783667, 12)"
      ]
     },
     "execution_count": 38,
     "metadata": {},
     "output_type": "execute_result"
    }
   ],
   "source": [
    "new_df.shape"
   ]
  },
  {
   "cell_type": "code",
   "execution_count": 39,
   "id": "c1c8b58c",
   "metadata": {
    "_cell_guid": "03f2488b-18f4-4bb6-9c42-25cb83aab72b",
    "_uuid": "c0f4799b-7ed8-4bee-9247-0df9cc0ceb1e",
    "collapsed": false,
    "execution": {
     "iopub.execute_input": "2022-06-22T11:02:36.200279Z",
     "iopub.status.busy": "2022-06-22T11:02:36.199859Z",
     "iopub.status.idle": "2022-06-22T11:02:36.259213Z",
     "shell.execute_reply": "2022-06-22T11:02:36.258281Z"
    },
    "jupyter": {
     "outputs_hidden": false
    },
    "papermill": {
     "duration": 0.089566,
     "end_time": "2022-06-22T11:02:36.261687",
     "exception": false,
     "start_time": "2022-06-22T11:02:36.172121",
     "status": "completed"
    },
    "tags": []
   },
   "outputs": [
    {
     "data": {
      "text/plain": [
       "array(['2', '4+', '3', '1', '0'], dtype=object)"
      ]
     },
     "execution_count": 39,
     "metadata": {},
     "output_type": "execute_result"
    }
   ],
   "source": [
    "new_df['Stay_In_Current_City_Years'].unique()"
   ]
  },
  {
   "cell_type": "code",
   "execution_count": 40,
   "id": "b8f3a328",
   "metadata": {
    "_cell_guid": "ecba3e7b-cf84-45b3-be99-0a1be780c498",
    "_uuid": "f1557090-4e26-4b13-be7b-8f712116756e",
    "collapsed": false,
    "execution": {
     "iopub.execute_input": "2022-06-22T11:02:36.315593Z",
     "iopub.status.busy": "2022-06-22T11:02:36.315162Z",
     "iopub.status.idle": "2022-06-22T11:02:36.803815Z",
     "shell.execute_reply": "2022-06-22T11:02:36.802473Z"
    },
    "jupyter": {
     "outputs_hidden": false
    },
    "papermill": {
     "duration": 0.51802,
     "end_time": "2022-06-22T11:02:36.806510",
     "exception": false,
     "start_time": "2022-06-22T11:02:36.288490",
     "status": "completed"
    },
    "tags": []
   },
   "outputs": [
    {
     "name": "stderr",
     "output_type": "stream",
     "text": [
      "/opt/conda/lib/python3.7/site-packages/ipykernel_launcher.py:1: FutureWarning: The default value of regex will change from True to False in a future version. In addition, single character regular expressions will *not* be treated as literal strings when regex=True.\n",
      "  \"\"\"Entry point for launching an IPython kernel.\n"
     ]
    }
   ],
   "source": [
    "new_df['Stay_In_Current_City_Years']=new_df['Stay_In_Current_City_Years'].str.replace('+','')"
   ]
  },
  {
   "cell_type": "code",
   "execution_count": 41,
   "id": "e4c58be6",
   "metadata": {
    "_cell_guid": "f09dbea0-ada6-40ba-ac0c-1a8657fcd4e4",
    "_uuid": "989534fc-66ab-412a-8fec-82577f18c93a",
    "collapsed": false,
    "execution": {
     "iopub.execute_input": "2022-06-22T11:02:36.859843Z",
     "iopub.status.busy": "2022-06-22T11:02:36.859155Z",
     "iopub.status.idle": "2022-06-22T11:02:36.919437Z",
     "shell.execute_reply": "2022-06-22T11:02:36.918190Z"
    },
    "jupyter": {
     "outputs_hidden": false
    },
    "papermill": {
     "duration": 0.089514,
     "end_time": "2022-06-22T11:02:36.921698",
     "exception": false,
     "start_time": "2022-06-22T11:02:36.832184",
     "status": "completed"
    },
    "tags": []
   },
   "outputs": [
    {
     "data": {
      "text/plain": [
       "array(['2', '4', '3', '1', '0'], dtype=object)"
      ]
     },
     "execution_count": 41,
     "metadata": {},
     "output_type": "execute_result"
    }
   ],
   "source": [
    "new_df['Stay_In_Current_City_Years'].unique()"
   ]
  },
  {
   "cell_type": "code",
   "execution_count": 42,
   "id": "c84bfdf2",
   "metadata": {
    "_cell_guid": "58badca0-90d1-401f-b9a7-c0fc6692a301",
    "_uuid": "6d0e0d0c-9a51-4cfa-b09b-f383da359525",
    "collapsed": false,
    "execution": {
     "iopub.execute_input": "2022-06-22T11:02:36.974700Z",
     "iopub.status.busy": "2022-06-22T11:02:36.973946Z",
     "iopub.status.idle": "2022-06-22T11:02:37.170731Z",
     "shell.execute_reply": "2022-06-22T11:02:37.169340Z"
    },
    "jupyter": {
     "outputs_hidden": false
    },
    "papermill": {
     "duration": 0.226418,
     "end_time": "2022-06-22T11:02:37.173467",
     "exception": false,
     "start_time": "2022-06-22T11:02:36.947049",
     "status": "completed"
    },
    "tags": []
   },
   "outputs": [
    {
     "name": "stdout",
     "output_type": "stream",
     "text": [
      "<class 'pandas.core.frame.DataFrame'>\n",
      "Int64Index: 783667 entries, 0 to 233598\n",
      "Data columns (total 12 columns):\n",
      " #   Column                      Non-Null Count   Dtype  \n",
      "---  ------                      --------------   -----  \n",
      " 0   Product_ID                  783667 non-null  object \n",
      " 1   Gender                      783667 non-null  int64  \n",
      " 2   Age                         783667 non-null  int64  \n",
      " 3   Occupation                  783667 non-null  int64  \n",
      " 4   Stay_In_Current_City_Years  783667 non-null  object \n",
      " 5   Marital_Status              783667 non-null  int64  \n",
      " 6   Product_Category_1          783667 non-null  int64  \n",
      " 7   Product_Category_2          783667 non-null  float64\n",
      " 8   Product_Category_3          783667 non-null  float64\n",
      " 9   Purchase                    550068 non-null  float64\n",
      " 10  B                           783667 non-null  uint8  \n",
      " 11  C                           783667 non-null  uint8  \n",
      "dtypes: float64(3), int64(5), object(2), uint8(2)\n",
      "memory usage: 67.3+ MB\n"
     ]
    }
   ],
   "source": [
    "new_df.info()"
   ]
  },
  {
   "cell_type": "code",
   "execution_count": 43,
   "id": "41ccf5ad",
   "metadata": {
    "_cell_guid": "edf761b6-bbc0-4c28-ab74-9aaf2a26d18c",
    "_uuid": "61494be6-981a-4d34-b378-787ae996e5cf",
    "collapsed": false,
    "execution": {
     "iopub.execute_input": "2022-06-22T11:02:37.228842Z",
     "iopub.status.busy": "2022-06-22T11:02:37.227579Z",
     "iopub.status.idle": "2022-06-22T11:02:37.345540Z",
     "shell.execute_reply": "2022-06-22T11:02:37.344734Z"
    },
    "jupyter": {
     "outputs_hidden": false
    },
    "papermill": {
     "duration": 0.148455,
     "end_time": "2022-06-22T11:02:37.348249",
     "exception": false,
     "start_time": "2022-06-22T11:02:37.199794",
     "status": "completed"
    },
    "tags": []
   },
   "outputs": [],
   "source": [
    "#covert the object into integer data type\n",
    "new_df['Stay_In_Current_City_Years'] = new_df['Stay_In_Current_City_Years'].astype(int)"
   ]
  },
  {
   "cell_type": "code",
   "execution_count": 44,
   "id": "3f790e02",
   "metadata": {
    "_cell_guid": "14e0bf24-e8af-4586-a88c-9257301305bc",
    "_uuid": "b7c012a4-d876-4edd-853b-ada70a35fe67",
    "collapsed": false,
    "execution": {
     "iopub.execute_input": "2022-06-22T11:02:37.404612Z",
     "iopub.status.busy": "2022-06-22T11:02:37.403482Z",
     "iopub.status.idle": "2022-06-22T11:02:37.523909Z",
     "shell.execute_reply": "2022-06-22T11:02:37.522699Z"
    },
    "jupyter": {
     "outputs_hidden": false
    },
    "papermill": {
     "duration": 0.151443,
     "end_time": "2022-06-22T11:02:37.527470",
     "exception": false,
     "start_time": "2022-06-22T11:02:37.376027",
     "status": "completed"
    },
    "tags": []
   },
   "outputs": [
    {
     "name": "stdout",
     "output_type": "stream",
     "text": [
      "<class 'pandas.core.frame.DataFrame'>\n",
      "Int64Index: 783667 entries, 0 to 233598\n",
      "Data columns (total 12 columns):\n",
      " #   Column                      Non-Null Count   Dtype  \n",
      "---  ------                      --------------   -----  \n",
      " 0   Product_ID                  783667 non-null  object \n",
      " 1   Gender                      783667 non-null  int64  \n",
      " 2   Age                         783667 non-null  int64  \n",
      " 3   Occupation                  783667 non-null  int64  \n",
      " 4   Stay_In_Current_City_Years  783667 non-null  int64  \n",
      " 5   Marital_Status              783667 non-null  int64  \n",
      " 6   Product_Category_1          783667 non-null  int64  \n",
      " 7   Product_Category_2          783667 non-null  float64\n",
      " 8   Product_Category_3          783667 non-null  float64\n",
      " 9   Purchase                    550068 non-null  float64\n",
      " 10  B                           783667 non-null  uint8  \n",
      " 11  C                           783667 non-null  uint8  \n",
      "dtypes: float64(3), int64(6), object(1), uint8(2)\n",
      "memory usage: 67.3+ MB\n"
     ]
    }
   ],
   "source": [
    "new_df.info()"
   ]
  },
  {
   "cell_type": "code",
   "execution_count": 45,
   "id": "c9d0b368",
   "metadata": {
    "_cell_guid": "e3f34209-fa3d-467f-8f73-c407d6692346",
    "_uuid": "0f79355d-971c-455f-b0bd-738b536f7522",
    "collapsed": false,
    "execution": {
     "iopub.execute_input": "2022-06-22T11:02:37.596598Z",
     "iopub.status.busy": "2022-06-22T11:02:37.596197Z",
     "iopub.status.idle": "2022-06-22T11:02:37.606851Z",
     "shell.execute_reply": "2022-06-22T11:02:37.605818Z"
    },
    "jupyter": {
     "outputs_hidden": false
    },
    "papermill": {
     "duration": 0.047143,
     "end_time": "2022-06-22T11:02:37.609448",
     "exception": false,
     "start_time": "2022-06-22T11:02:37.562305",
     "status": "completed"
    },
    "tags": []
   },
   "outputs": [],
   "source": [
    "new_df['B'] = new_df['B'].astype(int)\n",
    "new_df['C'] = new_df['C'].astype(int)"
   ]
  },
  {
   "cell_type": "code",
   "execution_count": 46,
   "id": "37d3b909",
   "metadata": {
    "_cell_guid": "9b2bed86-59a3-4e79-b87f-f728e9f75538",
    "_uuid": "033d3532-9edc-4662-903b-b023c0594c90",
    "collapsed": false,
    "execution": {
     "iopub.execute_input": "2022-06-22T11:02:37.663386Z",
     "iopub.status.busy": "2022-06-22T11:02:37.662966Z",
     "iopub.status.idle": "2022-06-22T11:02:37.775268Z",
     "shell.execute_reply": "2022-06-22T11:02:37.773883Z"
    },
    "jupyter": {
     "outputs_hidden": false
    },
    "papermill": {
     "duration": 0.142469,
     "end_time": "2022-06-22T11:02:37.778076",
     "exception": false,
     "start_time": "2022-06-22T11:02:37.635607",
     "status": "completed"
    },
    "tags": []
   },
   "outputs": [
    {
     "name": "stdout",
     "output_type": "stream",
     "text": [
      "<class 'pandas.core.frame.DataFrame'>\n",
      "Int64Index: 783667 entries, 0 to 233598\n",
      "Data columns (total 12 columns):\n",
      " #   Column                      Non-Null Count   Dtype  \n",
      "---  ------                      --------------   -----  \n",
      " 0   Product_ID                  783667 non-null  object \n",
      " 1   Gender                      783667 non-null  int64  \n",
      " 2   Age                         783667 non-null  int64  \n",
      " 3   Occupation                  783667 non-null  int64  \n",
      " 4   Stay_In_Current_City_Years  783667 non-null  int64  \n",
      " 5   Marital_Status              783667 non-null  int64  \n",
      " 6   Product_Category_1          783667 non-null  int64  \n",
      " 7   Product_Category_2          783667 non-null  float64\n",
      " 8   Product_Category_3          783667 non-null  float64\n",
      " 9   Purchase                    550068 non-null  float64\n",
      " 10  B                           783667 non-null  int64  \n",
      " 11  C                           783667 non-null  int64  \n",
      "dtypes: float64(3), int64(8), object(1)\n",
      "memory usage: 77.7+ MB\n"
     ]
    }
   ],
   "source": [
    "new_df.info()"
   ]
  },
  {
   "cell_type": "code",
   "execution_count": 47,
   "id": "a6efb9b4",
   "metadata": {
    "_cell_guid": "bc71841b-9c04-4eee-b13b-0d35abac5432",
    "_uuid": "3c72e7d4-44c2-441b-bd62-93b15b74839e",
    "collapsed": false,
    "execution": {
     "iopub.execute_input": "2022-06-22T11:02:37.833101Z",
     "iopub.status.busy": "2022-06-22T11:02:37.832637Z",
     "iopub.status.idle": "2022-06-22T11:02:45.310435Z",
     "shell.execute_reply": "2022-06-22T11:02:45.309163Z"
    },
    "jupyter": {
     "outputs_hidden": false
    },
    "papermill": {
     "duration": 7.508639,
     "end_time": "2022-06-22T11:02:45.313296",
     "exception": false,
     "start_time": "2022-06-22T11:02:37.804657",
     "status": "completed"
    },
    "tags": []
   },
   "outputs": [
    {
     "name": "stderr",
     "output_type": "stream",
     "text": [
      "/opt/conda/lib/python3.7/site-packages/seaborn/_decorators.py:43: FutureWarning: Pass the following variables as keyword args: x, y. From version 0.12, the only valid positional argument will be `data`, and passing other arguments without an explicit keyword will result in an error or misinterpretation.\n",
      "  FutureWarning\n"
     ]
    },
    {
     "data": {
      "text/plain": [
       "<AxesSubplot:xlabel='Age', ylabel='Purchase'>"
      ]
     },
     "execution_count": 47,
     "metadata": {},
     "output_type": "execute_result"
    },
    {
     "data": {
      "image/png": "[encoded data removed]",
      "text/plain": [
       "<Figure size 432x288 with 1 Axes>"
      ]
     },
     "metadata": {
      "needs_background": "light"
     },
     "output_type": "display_data"
    }
   ],
   "source": [
    "#Visualiztaion\n",
    "#Age vs Purchase\n",
    "sns.barplot('Age','Purchase',hue='Gender',data=new_df)"
   ]
  },
  {
   "cell_type": "markdown",
   "id": "7904b923",
   "metadata": {
    "_cell_guid": "9c30fb7b-aff6-4a09-88ff-1b1dbaddfc2b",
    "_uuid": "ca6dcffa-77e8-48ae-9878-24c6f3026154",
    "papermill": {
     "duration": 0.026749,
     "end_time": "2022-06-22T11:02:45.367898",
     "exception": false,
     "start_time": "2022-06-22T11:02:45.341149",
     "status": "completed"
    },
    "tags": []
   },
   "source": [
    "## Observation\n",
    " - Purchase of Men is high then women"
   ]
  },
  {
   "cell_type": "code",
   "execution_count": 48,
   "id": "a0504129",
   "metadata": {
    "_cell_guid": "276ef56c-d639-4eb9-8c8e-209abc175c33",
    "_uuid": "47a654e6-cac7-43ad-a503-07875ccde3c7",
    "collapsed": false,
    "execution": {
     "iopub.execute_input": "2022-06-22T11:02:45.423993Z",
     "iopub.status.busy": "2022-06-22T11:02:45.423542Z",
     "iopub.status.idle": "2022-06-22T11:02:52.989855Z",
     "shell.execute_reply": "2022-06-22T11:02:52.988346Z"
    },
    "jupyter": {
     "outputs_hidden": false
    },
    "papermill": {
     "duration": 7.597831,
     "end_time": "2022-06-22T11:02:52.992700",
     "exception": false,
     "start_time": "2022-06-22T11:02:45.394869",
     "status": "completed"
    },
    "tags": []
   },
   "outputs": [
    {
     "name": "stderr",
     "output_type": "stream",
     "text": [
      "/opt/conda/lib/python3.7/site-packages/seaborn/_decorators.py:43: FutureWarning: Pass the following variables as keyword args: x, y. From version 0.12, the only valid positional argument will be `data`, and passing other arguments without an explicit keyword will result in an error or misinterpretation.\n",
      "  FutureWarning\n"
     ]
    },
    {
     "data": {
      "text/plain": [
       "<AxesSubplot:xlabel='Occupation', ylabel='Purchase'>"
      ]
     },
     "execution_count": 48,
     "metadata": {},
     "output_type": "execute_result"
    },
    {
     "data": {
      "image/png": "[encoded data removed]",
      "text/plain": [
       "<Figure size 432x288 with 1 Axes>"
      ]
     },
     "metadata": {
      "needs_background": "light"
     },
     "output_type": "display_data"
    }
   ],
   "source": [
    "##purchase vs occupation\n",
    "sns.barplot('Occupation','Purchase',hue='Gender',data=new_df)"
   ]
  },
  {
   "cell_type": "code",
   "execution_count": 49,
   "id": "9b77f3e9",
   "metadata": {
    "_cell_guid": "a1203f09-07ce-4ff4-8d40-25a8cb7488ac",
    "_uuid": "daf59054-7055-4a31-a4a9-0956f5b9b2bd",
    "collapsed": false,
    "execution": {
     "iopub.execute_input": "2022-06-22T11:02:53.050976Z",
     "iopub.status.busy": "2022-06-22T11:02:53.050273Z",
     "iopub.status.idle": "2022-06-22T11:03:01.133649Z",
     "shell.execute_reply": "2022-06-22T11:03:01.132812Z"
    },
    "jupyter": {
     "outputs_hidden": false
    },
    "papermill": {
     "duration": 8.114249,
     "end_time": "2022-06-22T11:03:01.135763",
     "exception": false,
     "start_time": "2022-06-22T11:02:53.021514",
     "status": "completed"
    },
    "tags": []
   },
   "outputs": [
    {
     "name": "stderr",
     "output_type": "stream",
     "text": [
      "/opt/conda/lib/python3.7/site-packages/seaborn/_decorators.py:43: FutureWarning: Pass the following variables as keyword args: x, y. From version 0.12, the only valid positional argument will be `data`, and passing other arguments without an explicit keyword will result in an error or misinterpretation.\n",
      "  FutureWarning\n"
     ]
    },
    {
     "data": {
      "text/plain": [
       "<AxesSubplot:xlabel='Product_Category_1', ylabel='Purchase'>"
      ]
     },
     "execution_count": 49,
     "metadata": {},
     "output_type": "execute_result"
    },
    {
     "data": {
      "image/png": "[encoded data removed]",
      "text/plain": [
       "<Figure size 432x288 with 1 Axes>"
      ]
     },
     "metadata": {
      "needs_background": "light"
     },
     "output_type": "display_data"
    }
   ],
   "source": [
    "sns.barplot('Product_Category_1','Purchase',hue='Gender',data=new_df)"
   ]
  },
  {
   "cell_type": "code",
   "execution_count": 50,
   "id": "41e83946",
   "metadata": {
    "_cell_guid": "8bfe886a-a138-4b3e-9f45-6d4203962fd4",
    "_uuid": "4f4e742f-c38f-458a-b5f3-23a42a243030",
    "collapsed": false,
    "execution": {
     "iopub.execute_input": "2022-06-22T11:03:01.193128Z",
     "iopub.status.busy": "2022-06-22T11:03:01.192382Z",
     "iopub.status.idle": "2022-06-22T11:03:09.150308Z",
     "shell.execute_reply": "2022-06-22T11:03:09.149478Z"
    },
    "jupyter": {
     "outputs_hidden": false
    },
    "papermill": {
     "duration": 7.989113,
     "end_time": "2022-06-22T11:03:09.152496",
     "exception": false,
     "start_time": "2022-06-22T11:03:01.163383",
     "status": "completed"
    },
    "tags": []
   },
   "outputs": [
    {
     "name": "stderr",
     "output_type": "stream",
     "text": [
      "/opt/conda/lib/python3.7/site-packages/seaborn/_decorators.py:43: FutureWarning: Pass the following variables as keyword args: x, y. From version 0.12, the only valid positional argument will be `data`, and passing other arguments without an explicit keyword will result in an error or misinterpretation.\n",
      "  FutureWarning\n"
     ]
    },
    {
     "data": {
      "text/plain": [
       "<AxesSubplot:xlabel='Product_Category_2', ylabel='Purchase'>"
      ]
     },
     "execution_count": 50,
     "metadata": {},
     "output_type": "execute_result"
    },
    {
     "data": {
      "image/png": "[encoded data removed]",
      "text/plain": [
       "<Figure size 432x288 with 1 Axes>"
      ]
     },
     "metadata": {
      "needs_background": "light"
     },
     "output_type": "display_data"
    }
   ],
   "source": [
    "sns.barplot('Product_Category_2','Purchase',hue='Gender',data=new_df)"
   ]
  },
  {
   "cell_type": "code",
   "execution_count": 51,
   "id": "76f283b1",
   "metadata": {
    "_cell_guid": "47b00e41-c52e-4683-b6a9-e0770304cfcf",
    "_uuid": "a0d4567d-cbf5-44a9-9f11-aeffdd3080ee",
    "collapsed": false,
    "execution": {
     "iopub.execute_input": "2022-06-22T11:03:09.210176Z",
     "iopub.status.busy": "2022-06-22T11:03:09.209547Z",
     "iopub.status.idle": "2022-06-22T11:03:20.409064Z",
     "shell.execute_reply": "2022-06-22T11:03:20.407754Z"
    },
    "jupyter": {
     "outputs_hidden": false
    },
    "papermill": {
     "duration": 11.231223,
     "end_time": "2022-06-22T11:03:20.411617",
     "exception": false,
     "start_time": "2022-06-22T11:03:09.180394",
     "status": "completed"
    },
    "tags": []
   },
   "outputs": [
    {
     "name": "stderr",
     "output_type": "stream",
     "text": [
      "/opt/conda/lib/python3.7/site-packages/seaborn/_decorators.py:43: FutureWarning: Pass the following variables as keyword args: x, y. From version 0.12, the only valid positional argument will be `data`, and passing other arguments without an explicit keyword will result in an error or misinterpretation.\n",
      "  FutureWarning\n"
     ]
    },
    {
     "data": {
      "text/plain": [
       "<AxesSubplot:xlabel='Product_Category_3', ylabel='Purchase'>"
      ]
     },
     "execution_count": 51,
     "metadata": {},
     "output_type": "execute_result"
    },
    {
     "data": {
      "image/png": "[encoded data removed]",
      "text/plain": [
       "<Figure size 432x288 with 1 Axes>"
      ]
     },
     "metadata": {
      "needs_background": "light"
     },
     "output_type": "display_data"
    }
   ],
   "source": [
    "sns.barplot('Product_Category_3','Purchase',hue='Gender',data=new_df)"
   ]
  },
  {
   "cell_type": "code",
   "execution_count": 52,
   "id": "1ccdbc39",
   "metadata": {
    "_cell_guid": "fba40b27-d125-48d1-8786-f7fcf6202268",
    "_uuid": "f6ab802b-dcdb-4e93-b06a-a0315228632f",
    "collapsed": false,
    "execution": {
     "iopub.execute_input": "2022-06-22T11:03:20.471943Z",
     "iopub.status.busy": "2022-06-22T11:03:20.471513Z",
     "iopub.status.idle": "2022-06-22T11:03:20.489055Z",
     "shell.execute_reply": "2022-06-22T11:03:20.488090Z"
    },
    "jupyter": {
     "outputs_hidden": false
    },
    "papermill": {
     "duration": 0.050323,
     "end_time": "2022-06-22T11:03:20.490974",
     "exception": false,
     "start_time": "2022-06-22T11:03:20.440651",
     "status": "completed"
    },
    "tags": []
   },
   "outputs": [
    {
     "data": {
      "text/html": [
       "<div>\n",
       "<style scoped>\n",
       "    .dataframe tbody tr th:only-of-type {\n",
       "        vertical-align: middle;\n",
       "    }\n",
       "\n",
       "    .dataframe tbody tr th {\n",
       "        vertical-align: top;\n",
       "    }\n",
       "\n",
       "    .dataframe thead th {\n",
       "        text-align: right;\n",
       "    }\n",
       "</style>\n",
       "<table border=\"1\" class=\"dataframe\">\n",
       "  <thead>\n",
       "    <tr style=\"text-align: right;\">\n",
       "      <th></th>\n",
       "      <th>Product_ID</th>\n",
       "      <th>Gender</th>\n",
       "      <th>Age</th>\n",
       "      <th>Occupation</th>\n",
       "      <th>Stay_In_Current_City_Years</th>\n",
       "      <th>Marital_Status</th>\n",
       "      <th>Product_Category_1</th>\n",
       "      <th>Product_Category_2</th>\n",
       "      <th>Product_Category_3</th>\n",
       "      <th>Purchase</th>\n",
       "      <th>B</th>\n",
       "      <th>C</th>\n",
       "    </tr>\n",
       "  </thead>\n",
       "  <tbody>\n",
       "    <tr>\n",
       "      <th>0</th>\n",
       "      <td>P00069042</td>\n",
       "      <td>1</td>\n",
       "      <td>1</td>\n",
       "      <td>10</td>\n",
       "      <td>2</td>\n",
       "      <td>0</td>\n",
       "      <td>3</td>\n",
       "      <td>8.0</td>\n",
       "      <td>16.0</td>\n",
       "      <td>8370.0</td>\n",
       "      <td>0</td>\n",
       "      <td>0</td>\n",
       "    </tr>\n",
       "    <tr>\n",
       "      <th>1</th>\n",
       "      <td>P00248942</td>\n",
       "      <td>1</td>\n",
       "      <td>1</td>\n",
       "      <td>10</td>\n",
       "      <td>2</td>\n",
       "      <td>0</td>\n",
       "      <td>1</td>\n",
       "      <td>6.0</td>\n",
       "      <td>14.0</td>\n",
       "      <td>15200.0</td>\n",
       "      <td>0</td>\n",
       "      <td>0</td>\n",
       "    </tr>\n",
       "    <tr>\n",
       "      <th>2</th>\n",
       "      <td>P00087842</td>\n",
       "      <td>1</td>\n",
       "      <td>1</td>\n",
       "      <td>10</td>\n",
       "      <td>2</td>\n",
       "      <td>0</td>\n",
       "      <td>12</td>\n",
       "      <td>8.0</td>\n",
       "      <td>16.0</td>\n",
       "      <td>1422.0</td>\n",
       "      <td>0</td>\n",
       "      <td>0</td>\n",
       "    </tr>\n",
       "    <tr>\n",
       "      <th>3</th>\n",
       "      <td>P00085442</td>\n",
       "      <td>1</td>\n",
       "      <td>1</td>\n",
       "      <td>10</td>\n",
       "      <td>2</td>\n",
       "      <td>0</td>\n",
       "      <td>12</td>\n",
       "      <td>14.0</td>\n",
       "      <td>16.0</td>\n",
       "      <td>1057.0</td>\n",
       "      <td>0</td>\n",
       "      <td>0</td>\n",
       "    </tr>\n",
       "    <tr>\n",
       "      <th>4</th>\n",
       "      <td>P00285442</td>\n",
       "      <td>0</td>\n",
       "      <td>7</td>\n",
       "      <td>16</td>\n",
       "      <td>4</td>\n",
       "      <td>0</td>\n",
       "      <td>8</td>\n",
       "      <td>8.0</td>\n",
       "      <td>16.0</td>\n",
       "      <td>7969.0</td>\n",
       "      <td>0</td>\n",
       "      <td>1</td>\n",
       "    </tr>\n",
       "  </tbody>\n",
       "</table>\n",
       "</div>"
      ],
      "text/plain": [
       "  Product_ID  Gender  Age  Occupation  Stay_In_Current_City_Years  \\\n",
       "0  P00069042       1    1          10                           2   \n",
       "1  P00248942       1    1          10                           2   \n",
       "2  P00087842       1    1          10                           2   \n",
       "3  P00085442       1    1          10                           2   \n",
       "4  P00285442       0    7          16                           4   \n",
       "\n",
       "   Marital_Status  Product_Category_1  Product_Category_2  Product_Category_3  \\\n",
       "0               0                   3                 8.0                16.0   \n",
       "1               0                   1                 6.0                14.0   \n",
       "2               0                  12                 8.0                16.0   \n",
       "3               0                  12                14.0                16.0   \n",
       "4               0                   8                 8.0                16.0   \n",
       "\n",
       "   Purchase  B  C  \n",
       "0    8370.0  0  0  \n",
       "1   15200.0  0  0  \n",
       "2    1422.0  0  0  \n",
       "3    1057.0  0  0  \n",
       "4    7969.0  0  1  "
      ]
     },
     "execution_count": 52,
     "metadata": {},
     "output_type": "execute_result"
    }
   ],
   "source": [
    "new_df.head()"
   ]
  },
  {
   "cell_type": "code",
   "execution_count": 53,
   "id": "f5b249c6",
   "metadata": {
    "_cell_guid": "4b2183e8-d88a-430f-be00-d0fd37278b06",
    "_uuid": "2150aec8-d880-4e03-a86f-366ff6d6c1e2",
    "collapsed": false,
    "execution": {
     "iopub.execute_input": "2022-06-22T11:03:20.550949Z",
     "iopub.status.busy": "2022-06-22T11:03:20.550545Z",
     "iopub.status.idle": "2022-06-22T11:03:20.629945Z",
     "shell.execute_reply": "2022-06-22T11:03:20.628976Z"
    },
    "jupyter": {
     "outputs_hidden": false
    },
    "papermill": {
     "duration": 0.112419,
     "end_time": "2022-06-22T11:03:20.632420",
     "exception": false,
     "start_time": "2022-06-22T11:03:20.520001",
     "status": "completed"
    },
    "tags": []
   },
   "outputs": [
    {
     "data": {
      "text/html": [
       "<div>\n",
       "<style scoped>\n",
       "    .dataframe tbody tr th:only-of-type {\n",
       "        vertical-align: middle;\n",
       "    }\n",
       "\n",
       "    .dataframe tbody tr th {\n",
       "        vertical-align: top;\n",
       "    }\n",
       "\n",
       "    .dataframe thead th {\n",
       "        text-align: right;\n",
       "    }\n",
       "</style>\n",
       "<table border=\"1\" class=\"dataframe\">\n",
       "  <thead>\n",
       "    <tr style=\"text-align: right;\">\n",
       "      <th></th>\n",
       "      <th>Product_ID</th>\n",
       "      <th>Gender</th>\n",
       "      <th>Age</th>\n",
       "      <th>Occupation</th>\n",
       "      <th>Stay_In_Current_City_Years</th>\n",
       "      <th>Marital_Status</th>\n",
       "      <th>Product_Category_1</th>\n",
       "      <th>Product_Category_2</th>\n",
       "      <th>Product_Category_3</th>\n",
       "      <th>Purchase</th>\n",
       "      <th>B</th>\n",
       "      <th>C</th>\n",
       "    </tr>\n",
       "  </thead>\n",
       "  <tbody>\n",
       "    <tr>\n",
       "      <th>0</th>\n",
       "      <td>P00128942</td>\n",
       "      <td>0</td>\n",
       "      <td>5</td>\n",
       "      <td>7</td>\n",
       "      <td>2</td>\n",
       "      <td>1</td>\n",
       "      <td>1</td>\n",
       "      <td>11.0</td>\n",
       "      <td>16.0</td>\n",
       "      <td>NaN</td>\n",
       "      <td>1</td>\n",
       "      <td>0</td>\n",
       "    </tr>\n",
       "    <tr>\n",
       "      <th>1</th>\n",
       "      <td>P00113442</td>\n",
       "      <td>0</td>\n",
       "      <td>3</td>\n",
       "      <td>17</td>\n",
       "      <td>0</td>\n",
       "      <td>0</td>\n",
       "      <td>3</td>\n",
       "      <td>5.0</td>\n",
       "      <td>16.0</td>\n",
       "      <td>NaN</td>\n",
       "      <td>0</td>\n",
       "      <td>1</td>\n",
       "    </tr>\n",
       "    <tr>\n",
       "      <th>2</th>\n",
       "      <td>P00288442</td>\n",
       "      <td>1</td>\n",
       "      <td>4</td>\n",
       "      <td>1</td>\n",
       "      <td>4</td>\n",
       "      <td>1</td>\n",
       "      <td>5</td>\n",
       "      <td>14.0</td>\n",
       "      <td>16.0</td>\n",
       "      <td>NaN</td>\n",
       "      <td>1</td>\n",
       "      <td>0</td>\n",
       "    </tr>\n",
       "    <tr>\n",
       "      <th>3</th>\n",
       "      <td>P00145342</td>\n",
       "      <td>1</td>\n",
       "      <td>4</td>\n",
       "      <td>1</td>\n",
       "      <td>4</td>\n",
       "      <td>1</td>\n",
       "      <td>4</td>\n",
       "      <td>9.0</td>\n",
       "      <td>16.0</td>\n",
       "      <td>NaN</td>\n",
       "      <td>1</td>\n",
       "      <td>0</td>\n",
       "    </tr>\n",
       "    <tr>\n",
       "      <th>4</th>\n",
       "      <td>P00053842</td>\n",
       "      <td>1</td>\n",
       "      <td>3</td>\n",
       "      <td>1</td>\n",
       "      <td>1</td>\n",
       "      <td>0</td>\n",
       "      <td>4</td>\n",
       "      <td>5.0</td>\n",
       "      <td>12.0</td>\n",
       "      <td>NaN</td>\n",
       "      <td>0</td>\n",
       "      <td>1</td>\n",
       "    </tr>\n",
       "  </tbody>\n",
       "</table>\n",
       "</div>"
      ],
      "text/plain": [
       "  Product_ID  Gender  Age  Occupation  Stay_In_Current_City_Years  \\\n",
       "0  P00128942       0    5           7                           2   \n",
       "1  P00113442       0    3          17                           0   \n",
       "2  P00288442       1    4           1                           4   \n",
       "3  P00145342       1    4           1                           4   \n",
       "4  P00053842       1    3           1                           1   \n",
       "\n",
       "   Marital_Status  Product_Category_1  Product_Category_2  Product_Category_3  \\\n",
       "0               1                   1                11.0                16.0   \n",
       "1               0                   3                 5.0                16.0   \n",
       "2               1                   5                14.0                16.0   \n",
       "3               1                   4                 9.0                16.0   \n",
       "4               0                   4                 5.0                12.0   \n",
       "\n",
       "   Purchase  B  C  \n",
       "0       NaN  1  0  \n",
       "1       NaN  0  1  \n",
       "2       NaN  1  0  \n",
       "3       NaN  1  0  \n",
       "4       NaN  0  1  "
      ]
     },
     "execution_count": 53,
     "metadata": {},
     "output_type": "execute_result"
    }
   ],
   "source": [
    "##Feature Scaling\n",
    "df_test=new_df[new_df['Purchase'].isnull()]\n",
    "df_test.head()"
   ]
  },
  {
   "cell_type": "code",
   "execution_count": 54,
   "id": "acba4572",
   "metadata": {
    "_cell_guid": "e5879d3a-f572-4c57-9b7e-d4f5fec99e2c",
    "_uuid": "d4367db9-9411-4447-ae14-702c6e0109a7",
    "collapsed": false,
    "execution": {
     "iopub.execute_input": "2022-06-22T11:03:20.693547Z",
     "iopub.status.busy": "2022-06-22T11:03:20.693140Z",
     "iopub.status.idle": "2022-06-22T11:03:20.742134Z",
     "shell.execute_reply": "2022-06-22T11:03:20.741231Z"
    },
    "jupyter": {
     "outputs_hidden": false
    },
    "papermill": {
     "duration": 0.082341,
     "end_time": "2022-06-22T11:03:20.744517",
     "exception": false,
     "start_time": "2022-06-22T11:03:20.662176",
     "status": "completed"
    },
    "tags": []
   },
   "outputs": [
    {
     "data": {
      "text/html": [
       "<div>\n",
       "<style scoped>\n",
       "    .dataframe tbody tr th:only-of-type {\n",
       "        vertical-align: middle;\n",
       "    }\n",
       "\n",
       "    .dataframe tbody tr th {\n",
       "        vertical-align: top;\n",
       "    }\n",
       "\n",
       "    .dataframe thead th {\n",
       "        text-align: right;\n",
       "    }\n",
       "</style>\n",
       "<table border=\"1\" class=\"dataframe\">\n",
       "  <thead>\n",
       "    <tr style=\"text-align: right;\">\n",
       "      <th></th>\n",
       "      <th>Product_ID</th>\n",
       "      <th>Gender</th>\n",
       "      <th>Age</th>\n",
       "      <th>Occupation</th>\n",
       "      <th>Stay_In_Current_City_Years</th>\n",
       "      <th>Marital_Status</th>\n",
       "      <th>Product_Category_1</th>\n",
       "      <th>Product_Category_2</th>\n",
       "      <th>Product_Category_3</th>\n",
       "      <th>Purchase</th>\n",
       "      <th>B</th>\n",
       "      <th>C</th>\n",
       "    </tr>\n",
       "  </thead>\n",
       "  <tbody>\n",
       "    <tr>\n",
       "      <th>0</th>\n",
       "      <td>P00069042</td>\n",
       "      <td>1</td>\n",
       "      <td>1</td>\n",
       "      <td>10</td>\n",
       "      <td>2</td>\n",
       "      <td>0</td>\n",
       "      <td>3</td>\n",
       "      <td>8.0</td>\n",
       "      <td>16.0</td>\n",
       "      <td>8370.0</td>\n",
       "      <td>0</td>\n",
       "      <td>0</td>\n",
       "    </tr>\n",
       "    <tr>\n",
       "      <th>1</th>\n",
       "      <td>P00248942</td>\n",
       "      <td>1</td>\n",
       "      <td>1</td>\n",
       "      <td>10</td>\n",
       "      <td>2</td>\n",
       "      <td>0</td>\n",
       "      <td>1</td>\n",
       "      <td>6.0</td>\n",
       "      <td>14.0</td>\n",
       "      <td>15200.0</td>\n",
       "      <td>0</td>\n",
       "      <td>0</td>\n",
       "    </tr>\n",
       "    <tr>\n",
       "      <th>2</th>\n",
       "      <td>P00087842</td>\n",
       "      <td>1</td>\n",
       "      <td>1</td>\n",
       "      <td>10</td>\n",
       "      <td>2</td>\n",
       "      <td>0</td>\n",
       "      <td>12</td>\n",
       "      <td>8.0</td>\n",
       "      <td>16.0</td>\n",
       "      <td>1422.0</td>\n",
       "      <td>0</td>\n",
       "      <td>0</td>\n",
       "    </tr>\n",
       "    <tr>\n",
       "      <th>3</th>\n",
       "      <td>P00085442</td>\n",
       "      <td>1</td>\n",
       "      <td>1</td>\n",
       "      <td>10</td>\n",
       "      <td>2</td>\n",
       "      <td>0</td>\n",
       "      <td>12</td>\n",
       "      <td>14.0</td>\n",
       "      <td>16.0</td>\n",
       "      <td>1057.0</td>\n",
       "      <td>0</td>\n",
       "      <td>0</td>\n",
       "    </tr>\n",
       "    <tr>\n",
       "      <th>4</th>\n",
       "      <td>P00285442</td>\n",
       "      <td>0</td>\n",
       "      <td>7</td>\n",
       "      <td>16</td>\n",
       "      <td>4</td>\n",
       "      <td>0</td>\n",
       "      <td>8</td>\n",
       "      <td>8.0</td>\n",
       "      <td>16.0</td>\n",
       "      <td>7969.0</td>\n",
       "      <td>0</td>\n",
       "      <td>1</td>\n",
       "    </tr>\n",
       "  </tbody>\n",
       "</table>\n",
       "</div>"
      ],
      "text/plain": [
       "  Product_ID  Gender  Age  Occupation  Stay_In_Current_City_Years  \\\n",
       "0  P00069042       1    1          10                           2   \n",
       "1  P00248942       1    1          10                           2   \n",
       "2  P00087842       1    1          10                           2   \n",
       "3  P00085442       1    1          10                           2   \n",
       "4  P00285442       0    7          16                           4   \n",
       "\n",
       "   Marital_Status  Product_Category_1  Product_Category_2  Product_Category_3  \\\n",
       "0               0                   3                 8.0                16.0   \n",
       "1               0                   1                 6.0                14.0   \n",
       "2               0                  12                 8.0                16.0   \n",
       "3               0                  12                14.0                16.0   \n",
       "4               0                   8                 8.0                16.0   \n",
       "\n",
       "   Purchase  B  C  \n",
       "0    8370.0  0  0  \n",
       "1   15200.0  0  0  \n",
       "2    1422.0  0  0  \n",
       "3    1057.0  0  0  \n",
       "4    7969.0  0  1  "
      ]
     },
     "execution_count": 54,
     "metadata": {},
     "output_type": "execute_result"
    }
   ],
   "source": [
    "df_train=new_df[~new_df['Purchase'].isnull()]\n",
    "df_train.head()"
   ]
  },
  {
   "cell_type": "code",
   "execution_count": 55,
   "id": "8f6eeefd",
   "metadata": {
    "_cell_guid": "24891dfa-26d0-428d-a593-697431a0e37a",
    "_uuid": "1dce22bc-bd6e-4c9f-9fc5-1b98043c130f",
    "collapsed": false,
    "execution": {
     "iopub.execute_input": "2022-06-22T11:03:20.804884Z",
     "iopub.status.busy": "2022-06-22T11:03:20.804504Z",
     "iopub.status.idle": "2022-06-22T11:03:20.838050Z",
     "shell.execute_reply": "2022-06-22T11:03:20.836977Z"
    },
    "jupyter": {
     "outputs_hidden": false
    },
    "papermill": {
     "duration": 0.066243,
     "end_time": "2022-06-22T11:03:20.840603",
     "exception": false,
     "start_time": "2022-06-22T11:03:20.774360",
     "status": "completed"
    },
    "tags": []
   },
   "outputs": [],
   "source": [
    "X=df_train.drop('Purchase',axis=1)"
   ]
  },
  {
   "cell_type": "code",
   "execution_count": 56,
   "id": "641b3f1e",
   "metadata": {
    "_cell_guid": "2ff28fa1-0550-4b0a-a853-6022cf41aa2d",
    "_uuid": "99ab6e79-f9b3-4723-9d0b-cb51d7880809",
    "collapsed": false,
    "execution": {
     "iopub.execute_input": "2022-06-22T11:03:20.901319Z",
     "iopub.status.busy": "2022-06-22T11:03:20.900006Z",
     "iopub.status.idle": "2022-06-22T11:03:20.905203Z",
     "shell.execute_reply": "2022-06-22T11:03:20.904327Z"
    },
    "jupyter": {
     "outputs_hidden": false
    },
    "papermill": {
     "duration": 0.037572,
     "end_time": "2022-06-22T11:03:20.907383",
     "exception": false,
     "start_time": "2022-06-22T11:03:20.869811",
     "status": "completed"
    },
    "tags": []
   },
   "outputs": [],
   "source": [
    "y=df_train['Purchase']"
   ]
  },
  {
   "cell_type": "code",
   "execution_count": 57,
   "id": "ccea6577",
   "metadata": {
    "_cell_guid": "cb5c2652-e964-48a1-a9a8-d5678e02d951",
    "_uuid": "521cb09d-61dd-4a24-9a7c-5be7a50284cf",
    "collapsed": false,
    "execution": {
     "iopub.execute_input": "2022-06-22T11:03:20.967401Z",
     "iopub.status.busy": "2022-06-22T11:03:20.966794Z",
     "iopub.status.idle": "2022-06-22T11:03:21.436652Z",
     "shell.execute_reply": "2022-06-22T11:03:21.435807Z"
    },
    "jupyter": {
     "outputs_hidden": false
    },
    "papermill": {
     "duration": 0.502587,
     "end_time": "2022-06-22T11:03:21.439018",
     "exception": false,
     "start_time": "2022-06-22T11:03:20.936431",
     "status": "completed"
    },
    "tags": []
   },
   "outputs": [],
   "source": [
    "from sklearn.model_selection import train_test_split\n",
    "X_train, X_test, y_train, y_test = train_test_split(X, y, test_size=0.33, random_state=42)"
   ]
  },
  {
   "cell_type": "code",
   "execution_count": 58,
   "id": "f021f78a",
   "metadata": {
    "_cell_guid": "7c50e161-0ce3-47c0-bb7b-ec412d200707",
    "_uuid": "aff329c2-cd19-4514-b471-4969381a05bf",
    "collapsed": false,
    "execution": {
     "iopub.execute_input": "2022-06-22T11:03:21.507901Z",
     "iopub.status.busy": "2022-06-22T11:03:21.507119Z",
     "iopub.status.idle": "2022-06-22T11:03:21.553763Z",
     "shell.execute_reply": "2022-06-22T11:03:21.552303Z"
    },
    "jupyter": {
     "outputs_hidden": false
    },
    "papermill": {
     "duration": 0.086292,
     "end_time": "2022-06-22T11:03:21.556746",
     "exception": false,
     "start_time": "2022-06-22T11:03:21.470454",
     "status": "completed"
    },
    "tags": []
   },
   "outputs": [],
   "source": [
    "X_train.drop('Product_ID',axis=1,inplace=True)\n",
    "X_test.drop('Product_ID',axis=1,inplace=True)"
   ]
  },
  {
   "cell_type": "code",
   "execution_count": 59,
   "id": "e393aa9a",
   "metadata": {
    "_cell_guid": "e8e96d2c-fc54-47a0-8bea-bda835c84a42",
    "_uuid": "5e96d96c-b2d5-4738-aa30-fc529f36d07a",
    "collapsed": false,
    "execution": {
     "iopub.execute_input": "2022-06-22T11:03:21.627944Z",
     "iopub.status.busy": "2022-06-22T11:03:21.626917Z",
     "iopub.status.idle": "2022-06-22T11:03:21.742401Z",
     "shell.execute_reply": "2022-06-22T11:03:21.741254Z"
    },
    "jupyter": {
     "outputs_hidden": false
    },
    "papermill": {
     "duration": 0.148544,
     "end_time": "2022-06-22T11:03:21.744855",
     "exception": false,
     "start_time": "2022-06-22T11:03:21.596311",
     "status": "completed"
    },
    "tags": []
   },
   "outputs": [],
   "source": [
    "from sklearn.preprocessing import StandardScaler\n",
    "sc=StandardScaler()\n",
    "X_train=sc.fit_transform(X_train)\n",
    "X_test=sc.transform(X_test)"
   ]
  },
  {
   "cell_type": "code",
   "execution_count": null,
   "id": "1fbb5ea9",
   "metadata": {
    "_cell_guid": "238cf2f4-94fa-4a96-9db6-311e02f694f3",
    "_uuid": "625d0046-db06-4d78-a0ef-8e92138b3098",
    "collapsed": false,
    "jupyter": {
     "outputs_hidden": false
    },
    "papermill": {
     "duration": 0.030113,
     "end_time": "2022-06-22T11:03:21.804078",
     "exception": false,
     "start_time": "2022-06-22T11:03:21.773965",
     "status": "completed"
    },
    "tags": []
   },
   "outputs": [],
   "source": []
  },
  {
   "cell_type": "code",
   "execution_count": null,
   "id": "e9259655",
   "metadata": {
    "_cell_guid": "06e7d0a7-0085-41a8-aefe-d8b4d8f3f684",
    "_uuid": "f2127acb-6fc6-482a-b4d5-08253d08372d",
    "collapsed": false,
    "jupyter": {
     "outputs_hidden": false
    },
    "papermill": {
     "duration": 0.030367,
     "end_time": "2022-06-22T11:03:21.865025",
     "exception": false,
     "start_time": "2022-06-22T11:03:21.834658",
     "status": "completed"
    },
    "tags": []
   },
   "outputs": [],
   "source": []
  },
  {
   "cell_type": "code",
   "execution_count": null,
   "id": "4b114a5a",
   "metadata": {
    "_cell_guid": "5bc7f21b-741b-490e-b17e-e075d32e8e96",
    "_uuid": "a425cd27-b64d-4d3f-b933-61fae1113162",
    "collapsed": false,
    "jupyter": {
     "outputs_hidden": false
    },
    "papermill": {
     "duration": 0.030325,
     "end_time": "2022-06-22T11:03:21.925435",
     "exception": false,
     "start_time": "2022-06-22T11:03:21.895110",
     "status": "completed"
    },
    "tags": []
   },
   "outputs": [],
   "source": []
  },
  {
   "cell_type": "code",
   "execution_count": null,
   "id": "e57a6499",
   "metadata": {
    "_cell_guid": "e0cfd346-66f0-4bf0-a3d5-43976301db80",
    "_uuid": "913e45f8-72e1-4673-9675-97e5d6bf2181",
    "collapsed": false,
    "jupyter": {
     "outputs_hidden": false
    },
    "papermill": {
     "duration": 0.029836,
     "end_time": "2022-06-22T11:03:21.985761",
     "exception": false,
     "start_time": "2022-06-22T11:03:21.955925",
     "status": "completed"
    },
    "tags": []
   },
   "outputs": [],
   "source": []
  }
 ],
 "metadata": {
  "kernelspec": {
   "display_name": "Python 3",
   "language": "python",
   "name": "python3"
  },
  "language_info": {
   "codemirror_mode": {
    "name": "ipython",
    "version": 3
   },
   "file_extension": ".py",
   "mimetype": "text/x-python",
   "name": "python",
   "nbconvert_exporter": "python",
   "pygments_lexer": "ipython3",
   "version": "3.7.12"
  },
  "papermill": {
   "default_parameters": {},
   "duration": 64.770414,
   "end_time": "2022-06-22T11:03:23.140568",
   "environment_variables": {},
   "exception": null,
   "input_path": "__notebook__.ipynb",
   "output_path": "__notebook__.ipynb",
   "parameters": {},
   "start_time": "2022-06-22T11:02:18.370154",
   "version": "2.3.4"
  }
 },
 "nbformat": 4,
 "nbformat_minor": 5
}
